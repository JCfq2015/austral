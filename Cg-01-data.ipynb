{
 "metadata": {
  "name": "",
  "signature": "sha256:9726330151e742f4f7ecef3c06085bbe444cd071d1f3756228668e897ccd6179"
 },
 "nbformat": 3,
 "nbformat_minor": 0,
 "worksheets": [
  {
   "cells": [
    {
     "cell_type": "markdown",
     "metadata": {},
     "source": [
      "<img src=\"http://eagle.fish.washington.edu/cnidarian/skitch/Fwd__Sequencing_data_for_your_project_JG1411211_R1_-_roberts_sbr_gmail_com_-_Gmail_1A4367BF.png\" alt=\"Fwd__Sequencing_data_for_your_project_JG1411211_R1_-_roberts_sbr_gmail_com_-_Gmail_1A4367BF.png\"/>"
     ]
    },
    {
     "cell_type": "code",
     "collapsed": false,
     "input": [],
     "language": "python",
     "metadata": {},
     "outputs": []
    }
   ],
   "metadata": {}
  }
 ]
}