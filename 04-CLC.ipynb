{
 "metadata": {
  "name": "",
  "signature": "sha256:04a79e69c9b095b75b6ebd74bc27b5f4b9d1fc6f825631d5c83134738713bac3"
 },
 "nbformat": 3,
 "nbformat_minor": 0,
 "worksheets": [
  {
   "cells": [
    {
     "cell_type": "markdown",
     "metadata": {},
     "source": [
      "<img src=\"http://eagle.fish.washington.edu/cnidarian/skitch/RNA-Seq_Analysis_1A438E8A.png\" alt=\"RNA-Seq_Analysis_1A438E8A.png\"/>"
     ]
    },
    {
     "cell_type": "code",
     "collapsed": false,
     "input": [],
     "language": "python",
     "metadata": {},
     "outputs": []
    }
   ],
   "metadata": {}
  }
 ]
}