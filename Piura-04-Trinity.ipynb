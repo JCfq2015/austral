{
 "metadata": {
  "name": "",
  "signature": "sha256:8503ba7ba93e81e342c7313f2998b6701b721ee1d671d00e1839ff7d2014cbee"
 },
 "nbformat": 3,
 "nbformat_minor": 0,
 "worksheets": [
  {
   "cells": [
    {
     "cell_type": "heading",
     "level": 1,
     "metadata": {},
     "source": [
      "Piura-04-Trinity"
     ]
    },
    {
     "cell_type": "markdown",
     "metadata": {},
     "source": [
      "Separate assemblies using Trinity on iPlant"
     ]
    },
    {
     "cell_type": "markdown",
     "metadata": {},
     "source": [
      "<img src=\"http://eagle.fish.washington.edu/cnidarian/skitch/_54__Discovery_Environment_1A49E064.png\" alt=\"_54__Discovery_Environment_1A49E064.png\"/>"
     ]
    },
    {
     "cell_type": "code",
     "collapsed": false,
     "input": [],
     "language": "python",
     "metadata": {},
     "outputs": []
    }
   ],
   "metadata": {}
  }
 ]
}