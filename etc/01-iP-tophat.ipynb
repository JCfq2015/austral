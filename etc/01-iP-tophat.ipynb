{
 "metadata": {
  "name": "",
  "signature": "sha256:ae3d81b184fe5fdea78617eff528ef7258ac4dcf079b87606b23bae8c48c85f0"
 },
 "nbformat": 3,
 "nbformat_minor": 0,
 "worksheets": [
  {
   "cells": [
    {
     "cell_type": "heading",
     "level": 1,
     "metadata": {},
     "source": [
      "RNA-seq from pre post temp stress"
     ]
    },
    {
     "cell_type": "markdown",
     "metadata": {},
     "source": [
      "<img src=\"http://eagle.fish.washington.edu/cnidarian/skitch/Fwd__Sequencing_data_for_your_project_JG1411211_R1_-_roberts_sbr_gmail_com_-_Gmail_1A4367BF.png\" alt=\"Fwd__Sequencing_data_for_your_project_JG1411211_R1_-_roberts_sbr_gmail_com_-_Gmail_1A4367BF.png\"/>"
     ]
    },
    {
     "cell_type": "markdown",
     "metadata": {},
     "source": [
      "<img src=\"http://eagle.fish.washington.edu/cnidarian/skitch/_16__Discovery_Environment_1A436B1C.png\" alt=\"_16__Discovery_Environment_1A436B1C.png\"/>"
     ]
    },
    {
     "cell_type": "code",
     "collapsed": false,
     "input": [],
     "language": "python",
     "metadata": {},
     "outputs": []
    }
   ],
   "metadata": {}
  }
 ]
}