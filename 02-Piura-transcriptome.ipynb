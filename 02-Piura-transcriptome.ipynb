{
 "metadata": {
  "name": "",
  "signature": "sha256:901b15f19fd0d9c2dadede6a56dc8d8be0a7df2169f540ec7842ee3bbe9740c6"
 },
 "nbformat": 3,
 "nbformat_minor": 0,
 "worksheets": [
  {
   "cells": [
    {
     "cell_type": "heading",
     "level": 1,
     "metadata": {},
     "source": [
      "Piura chilensis CLC"
     ]
    },
    {
     "cell_type": "markdown",
     "metadata": {},
     "source": [
      "Fastx trimmer was used to remove first 20bp and after 450bp because of bad quality"
     ]
    },
    {
     "cell_type": "markdown",
     "metadata": {},
     "source": [
      "<img src=\"http://eagle.fish.washington.edu/cnidarian/skitch/CLC_Genomics_Workbench_7_5_1_1A44A53F.png\" alt=\"CLC_Genomics_Workbench_7_5_1_1A44A53F.png\"/>"
     ]
    },
    {
     "cell_type": "markdown",
     "metadata": {},
     "source": [
      "<img src=\"http://eagle.fish.washington.edu/cnidarian/skitch/CLC_Genomics_Workbench_7_5_1_1A44A571.png\" alt=\"CLC_Genomics_Workbench_7_5_1_1A44A571.png\"/>"
     ]
    },
    {
     "cell_type": "code",
     "collapsed": false,
     "input": [
      "!head /Volumes/web/cnidarian/Piura_contigs.fa"
     ],
     "language": "python",
     "metadata": {},
     "outputs": [
      {
       "output_type": "stream",
       "stream": "stdout",
       "text": [
        ">PiuraChilensis_Coquimbo_trimmer_out_contig_1\r\n",
        "ATTTACAATACGAAGTAAAATAGATAACGTGAAAATAATCTTGGTGCTGGATGATCGATC\r\n",
        "AAGTTCACCAATATTTTATTGTAAAAAATCATTCTAAACAGCATGAAATCGTGTACAATG\r\n",
        "TATAAACAAGCAAATATATAACACTAAAGCAAGAGGGCGTAAGTGGGGGGGTGGGTGAGA\r\n",
        "GTAAAAAATTCAAACATGTCAAATACCCCGGCGTTAGCCTTAAAAGCACCATGGACTTCT\r\n",
        "GCCTTCAATAAGCATAAAATTAAAACACCTAATACACAATGAATATACAGATAAAACAGA\r\n",
        "TTTATGAATAGTTGGTGTTACATCTTTTACAGCCATAAGCCTTCATTTTGCTTCCAAACG\r\n",
        "TATAAAATCTGACTTGGAACAATATACAGCCATGAGATATGACACAGCGAGCACTACAAT\r\n",
        "ATATATTTATCTTGTACTATACAGCCTGTACAAGAAAATTCTGGAATTGTCTTCACAAGA\r\n",
        "GACAGAAAAATAGTTGCAATGTGAATGCTAGTCTACTATTTGATCACAATTGGATAGAAA\r\n"
       ]
      }
     ],
     "prompt_number": 2
    },
    {
     "cell_type": "code",
     "collapsed": false,
     "input": [
      "#edit name\n",
      "!sed s/PiuraChilensis_Coquimbo_trimmer_out_contig/PiuraChilensis_v1_contig/g /Volumes/web/cnidarian/Piura_contigs.fa > /Volumes/web/cnidarian/Piura_v1_contigs.fa"
     ],
     "language": "python",
     "metadata": {},
     "outputs": [],
     "prompt_number": 4
    },
    {
     "cell_type": "code",
     "collapsed": false,
     "input": [
      "!head /Volumes/web/cnidarian/Piura_v1_contigs.fa"
     ],
     "language": "python",
     "metadata": {},
     "outputs": [
      {
       "output_type": "stream",
       "stream": "stdout",
       "text": [
        ">PiuraChilensis_v1_contig_1\r\n",
        "ATTTACAATACGAAGTAAAATAGATAACGTGAAAATAATCTTGGTGCTGGATGATCGATC\r\n",
        "AAGTTCACCAATATTTTATTGTAAAAAATCATTCTAAACAGCATGAAATCGTGTACAATG\r\n",
        "TATAAACAAGCAAATATATAACACTAAAGCAAGAGGGCGTAAGTGGGGGGGTGGGTGAGA\r\n",
        "GTAAAAAATTCAAACATGTCAAATACCCCGGCGTTAGCCTTAAAAGCACCATGGACTTCT\r\n",
        "GCCTTCAATAAGCATAAAATTAAAACACCTAATACACAATGAATATACAGATAAAACAGA\r\n",
        "TTTATGAATAGTTGGTGTTACATCTTTTACAGCCATAAGCCTTCATTTTGCTTCCAAACG\r\n",
        "TATAAAATCTGACTTGGAACAATATACAGCCATGAGATATGACACAGCGAGCACTACAAT\r\n",
        "ATATATTTATCTTGTACTATACAGCCTGTACAAGAAAATTCTGGAATTGTCTTCACAAGA\r\n",
        "GACAGAAAAATAGTTGCAATGTGAATGCTAGTCTACTATTTGATCACAATTGGATAGAAA\r\n"
       ]
      }
     ],
     "prompt_number": 5
    },
    {
     "cell_type": "code",
     "collapsed": false,
     "input": [
      "cp /Volumes/Bay3/Software/ncbi-blast-2.2.29\\+/bin/* /usr/local/bin"
     ],
     "language": "python",
     "metadata": {},
     "outputs": [],
     "prompt_number": 22
    },
    {
     "cell_type": "code",
     "collapsed": false,
     "input": [
      "!blastx \\\n",
      "-query ./data/Piura_v1_contigs.fa \\\n",
      "-db /Volumes/Bay3/Software/ncbi-blast-2.2.29\\+/db/uniprot_sprot_r2013_12 \\\n",
      "-out ./data/Piura_v1_uniprot_sprot.tab \\\n",
      "-evalue 1E-05 \\\n",
      "-max_target_seqs 1 \\\n",
      "-max_hsps 1 \\\n",
      "-outfmt 6 \\\n",
      "-num_threads 2"
     ],
     "language": "python",
     "metadata": {},
     "outputs": []
    },
    {
     "cell_type": "code",
     "collapsed": false,
     "input": [
      "!tail ./data/Piura_v1_uniprot_sprot.tab"
     ],
     "language": "python",
     "metadata": {},
     "outputs": [
      {
       "output_type": "stream",
       "stream": "stdout",
       "text": [
        "PiuraChilensis_v1_contig_14993\tsp|Q6QBQ4|PLS3_RAT\t31.25\t96\t62\t2\t630\t346\t191\t283\t3e-07\t54.3\r\n",
        "PiuraChilensis_v1_contig_14994\tsp|P98107|LYAM2_BOVIN\t33.04\t115\t62\t6\t280\t597\t71\t179\t1e-06\t53.1\r\n",
        "PiuraChilensis_v1_contig_14996\tsp|Q9TV62|MYH4_PIG\t62.57\t342\t128\t0\t1145\t120\t1266\t1607\t2e-101\t  335\r\n",
        "PiuraChilensis_v1_contig_15000\tsp|Q9Y5L0|TNPO3_HUMAN\t45.60\t125\t67\t1\t318\t689\t153\t277\t2e-28\t  119\r\n",
        "PiuraChilensis_v1_contig_15004\tsp|P14381|YTX2_XENLA\t24.00\t125\t93\t2\t407\t33\t3\t125\t6e-07\t52.8\r\n",
        "PiuraChilensis_v1_contig_15007\tsp|Q4QY64|ATAD5_MOUSE\t36.71\t79\t34\t2\t125\t313\t1734\t1812\t9e-06\t50.8\r\n",
        "PiuraChilensis_v1_contig_15012\tsp|P13623|NFIX_MESAU\t89.58\t144\t15\t0\t432\t1\t7\t150\t1e-89\t  278\r\n",
        "PiuraChilensis_v1_contig_15017\tsp|Q04446|GLGB_HUMAN\t78.23\t147\t32\t0\t2\t442\t186\t332\t8e-70\t  234\r\n",
        "PiuraChilensis_v1_contig_15018\tsp|O18973|RABX5_BOVIN\t79.07\t43\t9\t0\t888\t1016\t321\t363\t3e-15\t80.1\r\n",
        "PiuraChilensis_v1_contig_15021\tsp|Q9Z1Z1|E2AK3_RAT\t51.61\t93\t45\t0\t100\t378\t971\t1063\t8e-22\t97.8\r\n"
       ]
      }
     ],
     "prompt_number": 3
    },
    {
     "cell_type": "heading",
     "level": 1,
     "metadata": {},
     "source": [
      "Running Trinity on Valtrimmed (iPlant)"
     ]
    },
    {
     "cell_type": "code",
     "collapsed": false,
     "input": [],
     "language": "python",
     "metadata": {},
     "outputs": []
    }
   ],
   "metadata": {}
  }
 ]
}