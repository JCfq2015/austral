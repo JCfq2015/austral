{
 "metadata": {
  "celltoolbar": "Slideshow",
  "name": "",
  "signature": "sha256:5398508f66c722d3bdcebfc26e5fbc490dce8aef40d5404d5d8e607d30474e2d"
 },
 "nbformat": 3,
 "nbformat_minor": 0,
 "worksheets": [
  {
   "cells": [
    {
     "cell_type": "markdown",
     "metadata": {
      "slideshow": {
       "slide_type": "slide"
      }
     },
     "source": [
      "#Physiological response of marine organisms to environmental change from a genomic perspective\n",
      "\n",
      "_Instructor_:      \n",
      "Steven Roberts     \n",
      "robertslab.info     \n",
      "sr320@uw.edu     \n",
      "@sr320"
     ]
    },
    {
     "cell_type": "heading",
     "level": 1,
     "metadata": {
      "slideshow": {
       "slide_type": "slide"
      }
     },
     "source": [
      "\n",
      "Introduction\n"
     ]
    },
    {
     "cell_type": "code",
     "collapsed": false,
     "input": [
      "cd /Users/sr320/git-repos/austral/slides\n"
     ],
     "language": "python",
     "metadata": {
      "slideshow": {
       "slide_type": "skip"
      }
     },
     "outputs": [
      {
       "output_type": "stream",
       "stream": "stdout",
       "text": [
        "/Users/sr320/git-repos/austral/slides\n"
       ]
      }
     ],
     "prompt_number": 6
    },
    {
     "cell_type": "code",
     "collapsed": false,
     "input": [
      "!ipython nbconvert /Users/sr320/git-repos/austral/slides/Introduction.ipynb --to slides --post serve\n"
     ],
     "language": "python",
     "metadata": {
      "slideshow": {
       "slide_type": "skip"
      }
     },
     "outputs": [
      {
       "output_type": "stream",
       "stream": "stdout",
       "text": [
        "[NbConvertApp] Using existing profile dir: u'/Users/sr320/.ipython/profile_default'\r\n"
       ]
      },
      {
       "output_type": "stream",
       "stream": "stdout",
       "text": [
        "[NbConvertApp] Converting notebook /Users/sr320/git-repos/austral/slides/Introduction.ipynb to slides\r\n",
        "[NbConvertApp] Support files will be in Introduction_files/\r\n"
       ]
      },
      {
       "output_type": "stream",
       "stream": "stdout",
       "text": [
        "[NbConvertApp] Loaded template slides_reveal.tpl\r\n"
       ]
      },
      {
       "output_type": "stream",
       "stream": "stdout",
       "text": [
        "/Users/sr320/anaconda/lib/python2.7/site-packages/IPython/nbconvert/filters/markdown.py:78: UserWarning: Node.js 0.9.12 or later wasn't found.\r\n",
        "Nbconvert will try to use Pandoc instead.\r\n",
        "  \"Nbconvert will try to use Pandoc instead.\")\r\n"
       ]
      },
      {
       "output_type": "stream",
       "stream": "stdout",
       "text": [
        "/Users/sr320/anaconda/lib/python2.7/site-packages/IPython/nbconvert/utils/pandoc.py:63: RuntimeWarning: You are using an old version of pandoc (1.11.1)\r\n",
        "Recommended version is 1.12.1.\r\n",
        "Try updating.http://johnmacfarlane.net/pandoc/installing.html.\r\n",
        "Continuing with doubts...\r\n",
        "  check_pandoc_version()\r\n"
       ]
      },
      {
       "output_type": "stream",
       "stream": "stdout",
       "text": [
        "[NbConvertApp] Writing 203610 bytes to Introduction.slides.html\r\n",
        "[NbConvertApp] Redirecting reveal.js requests to https://cdn.jsdelivr.net/reveal.js/2.5.0\r\n",
        "Serving your slides at http://127.0.0.1:8000/Introduction.slides.html\r\n",
        "Use Control-C to stop this server\r\n"
       ]
      },
      {
       "output_type": "stream",
       "stream": "stdout",
       "text": [
        "WARNING:tornado.access:404 GET /custom.css (127.0.0.1) 1.14ms\r\n"
       ]
      },
      {
       "output_type": "stream",
       "stream": "stdout",
       "text": [
        "WARNING:tornado.general:Invalid SSL certificate\r\n",
        "Traceback (most recent call last):\r\n",
        "  File \"/Users/sr320/anaconda/lib/python2.7/site-packages/tornado/iostream.py\", line 886, in _verify_cert\r\n",
        "    ssl_match_hostname(peercert, self._server_hostname)\r\n",
        "  File \"/Users/sr320/anaconda/lib/python2.7/site-packages/backports/ssl_match_hostname/__init__.py\", line 99, in match_hostname\r\n",
        "    % (hostname, dnsnames[0]))\r\n",
        "CertificateError: hostname u'cdn.jsdelivr.net' doesn't match '*.boingohotspot.net'\r\n"
       ]
      },
      {
       "output_type": "stream",
       "stream": "stdout",
       "text": [
        "WARNING:tornado.general:Invalid SSL certificate\r\n",
        "Traceback (most recent call last):\r\n",
        "  File \"/Users/sr320/anaconda/lib/python2.7/site-packages/tornado/iostream.py\", line 886, in _verify_cert\r\n",
        "    ssl_match_hostname(peercert, self._server_hostname)\r\n",
        "  File \"/Users/sr320/anaconda/lib/python2.7/site-packages/backports/ssl_match_hostname/__init__.py\", line 99, in match_hostname\r\n",
        "    % (hostname, dnsnames[0]))\r\n",
        "CertificateError: hostname u'cdn.jsdelivr.net' doesn't match '*.boingohotspot.net'\r\n",
        "WARNING:tornado.general:Invalid SSL certificate\r\n",
        "Traceback (most recent call last):\r\n",
        "  File \"/Users/sr320/anaconda/lib/python2.7/site-packages/tornado/iostream.py\", line 886, in _verify_cert\r\n",
        "    ssl_match_hostname(peercert, self._server_hostname)\r\n",
        "  File \"/Users/sr320/anaconda/lib/python2.7/site-packages/backports/ssl_match_hostname/__init__.py\", line 99, in match_hostname\r\n",
        "    % (hostname, dnsnames[0]))\r\n",
        "CertificateError: hostname u'cdn.jsdelivr.net' doesn't match '*.boingohotspot.net'\r\n",
        "WARNING:tornado.general:Invalid SSL certificate\r\n",
        "Traceback (most recent call last):\r\n",
        "  File \"/Users/sr320/anaconda/lib/python2.7/site-packages/tornado/iostream.py\", line 886, in _verify_cert\r\n",
        "    ssl_match_hostname(peercert, self._server_hostname)\r\n",
        "  File \"/Users/sr320/anaconda/lib/python2.7/site-packages/backports/ssl_match_hostname/__init__.py\", line 99, in match_hostname\r\n",
        "    % (hostname, dnsnames[0]))\r\n",
        "CertificateError: hostname u'cdn.jsdelivr.net' doesn't match '*.boingohotspot.net'\r\n",
        "WARNING:tornado.general:Invalid SSL certificate\r\n",
        "Traceback (most recent call last):\r\n",
        "  File \"/Users/sr320/anaconda/lib/python2.7/site-packages/tornado/iostream.py\", line 886, in _verify_cert\r\n",
        "    ssl_match_hostname(peercert, self._server_hostname)\r\n",
        "  File \"/Users/sr320/anaconda/lib/python2.7/site-packages/backports/ssl_match_hostname/__init__.py\", line 99, in match_hostname\r\n",
        "    % (hostname, dnsnames[0]))\r\n",
        "CertificateError: hostname u'cdn.jsdelivr.net' doesn't match '*.boingohotspot.net'\r\n"
       ]
      },
      {
       "output_type": "stream",
       "stream": "stdout",
       "text": [
        "WARNING:tornado.access:404 GET /custom.css (127.0.0.1) 0.63ms\r\n"
       ]
      },
      {
       "output_type": "stream",
       "stream": "stdout",
       "text": [
        "WARNING:tornado.general:Invalid SSL certificate\r\n",
        "Traceback (most recent call last):\r\n",
        "  File \"/Users/sr320/anaconda/lib/python2.7/site-packages/tornado/iostream.py\", line 886, in _verify_cert\r\n",
        "    ssl_match_hostname(peercert, self._server_hostname)\r\n",
        "  File \"/Users/sr320/anaconda/lib/python2.7/site-packages/backports/ssl_match_hostname/__init__.py\", line 99, in match_hostname\r\n",
        "    % (hostname, dnsnames[0]))\r\n",
        "CertificateError: hostname u'cdn.jsdelivr.net' doesn't match '*.boingohotspot.net'\r\n"
       ]
      },
      {
       "output_type": "stream",
       "stream": "stdout",
       "text": [
        "WARNING:tornado.general:Invalid SSL certificate\r\n",
        "Traceback (most recent call last):\r\n",
        "  File \"/Users/sr320/anaconda/lib/python2.7/site-packages/tornado/iostream.py\", line 886, in _verify_cert\r\n",
        "    ssl_match_hostname(peercert, self._server_hostname)\r\n",
        "  File \"/Users/sr320/anaconda/lib/python2.7/site-packages/backports/ssl_match_hostname/__init__.py\", line 99, in match_hostname\r\n",
        "    % (hostname, dnsnames[0]))\r\n",
        "CertificateError: hostname u'cdn.jsdelivr.net' doesn't match '*.boingohotspot.net'\r\n",
        "WARNING:tornado.general:Invalid SSL certificate\r\n",
        "Traceback (most recent call last):\r\n",
        "  File \"/Users/sr320/anaconda/lib/python2.7/site-packages/tornado/iostream.py\", line 886, in _verify_cert\r\n",
        "    ssl_match_hostname(peercert, self._server_hostname)\r\n",
        "  File \"/Users/sr320/anaconda/lib/python2.7/site-packages/backports/ssl_match_hostname/__init__.py\", line 99, in match_hostname\r\n",
        "    % (hostname, dnsnames[0]))\r\n",
        "CertificateError: hostname u'cdn.jsdelivr.net' doesn't match '*.boingohotspot.net'\r\n",
        "WARNING:tornado.general:Invalid SSL certificate\r\n",
        "Traceback (most recent call last):\r\n",
        "  File \"/Users/sr320/anaconda/lib/python2.7/site-packages/tornado/iostream.py\", line 886, in _verify_cert\r\n",
        "    ssl_match_hostname(peercert, self._server_hostname)\r\n",
        "  File \"/Users/sr320/anaconda/lib/python2.7/site-packages/backports/ssl_match_hostname/__init__.py\", line 99, in match_hostname\r\n",
        "    % (hostname, dnsnames[0]))\r\n",
        "CertificateError: hostname u'cdn.jsdelivr.net' doesn't match '*.boingohotspot.net'\r\n",
        "WARNING:tornado.general:Invalid SSL certificate\r\n",
        "Traceback (most recent call last):\r\n",
        "  File \"/Users/sr320/anaconda/lib/python2.7/site-packages/tornado/iostream.py\", line 886, in _verify_cert\r\n",
        "    ssl_match_hostname(peercert, self._server_hostname)\r\n",
        "  File \"/Users/sr320/anaconda/lib/python2.7/site-packages/backports/ssl_match_hostname/__init__.py\", line 99, in match_hostname\r\n",
        "    % (hostname, dnsnames[0]))\r\n",
        "CertificateError: hostname u'cdn.jsdelivr.net' doesn't match '*.boingohotspot.net'\r\n"
       ]
      },
      {
       "output_type": "stream",
       "stream": "stdout",
       "text": [
        "^C\r\n",
        "Interrupted\r\n",
        "\r\n"
       ]
      }
     ],
     "prompt_number": 29
    },
    {
     "cell_type": "heading",
     "level": 1,
     "metadata": {
      "slideshow": {
       "slide_type": "slide"
      }
     },
     "source": [
      "Marine environments are continually changing in response to both natural processes and human activities, both having direct physiological impacts on marine organisms. \n",
      "       \n"
     ]
    },
    {
     "cell_type": "heading",
     "level": 1,
     "metadata": {
      "slideshow": {
       "slide_type": "fragment"
      }
     },
     "source": [
      "This course will explore the surprising similarities and unique differences in the physiological response of diverse organisms. \n"
     ]
    },
    {
     "cell_type": "heading",
     "level": 1,
     "metadata": {
      "slideshow": {
       "slide_type": "slide"
      }
     },
     "source": [
      "The main focus will be on functional responses to system stressors; however, the course will also explore how new discoveries in epigenetics is providing insight into phenotypic plasticity and evolutionary implications. "
     ]
    },
    {
     "cell_type": "heading",
     "level": 1,
     "metadata": {
      "slideshow": {
       "slide_type": "fragment"
      }
     },
     "source": [
      "A core component of this course will be hands on tutorials on examining high-throughput sequencing data. \n"
     ]
    },
    {
     "cell_type": "heading",
     "level": 1,
     "metadata": {
      "slideshow": {
       "slide_type": "slide"
      }
     },
     "source": [
      "Specifically, transcriptome (RNA-seq) data from experiments where marine organisms are exposed to environmental change will be analyzed. "
     ]
    },
    {
     "cell_type": "heading",
     "level": 1,
     "metadata": {
      "slideshow": {
       "slide_type": "fragment"
      }
     },
     "source": [
      "Bioinformatic instruction will include modules on gene annotation, differential gene expression, and variant detection.\n"
     ]
    },
    {
     "cell_type": "heading",
     "level": 1,
     "metadata": {
      "slideshow": {
       "slide_type": "fragment"
      }
     },
     "source": [
      "There will be an emphasis on open science practices including the use of electronic lab notebooks. "
     ]
    },
    {
     "cell_type": "markdown",
     "metadata": {
      "slideshow": {
       "slide_type": "slide"
      }
     },
     "source": [
      "#Basics\n",
      "* ##Fundamental Physiology\n"
     ]
    },
    {
     "cell_type": "markdown",
     "metadata": {
      "slideshow": {
       "slide_type": "fragment"
      }
     },
     "source": [
      "* ##Core Computational Skills\n"
     ]
    },
    {
     "cell_type": "markdown",
     "metadata": {
      "slideshow": {
       "slide_type": "fragment"
      }
     },
     "source": [
      "* ##Bioinformatic Modules"
     ]
    },
    {
     "cell_type": "heading",
     "level": 1,
     "metadata": {
      "slideshow": {
       "slide_type": "slide"
      }
     },
     "source": [
      "Logistics"
     ]
    },
    {
     "cell_type": "code",
     "collapsed": false,
     "input": [],
     "language": "python",
     "metadata": {
      "slideshow": {
       "slide_type": "slide"
      }
     },
     "outputs": []
    },
    {
     "cell_type": "code",
     "collapsed": false,
     "input": [],
     "language": "python",
     "metadata": {
      "slideshow": {
       "slide_type": "slide"
      }
     },
     "outputs": []
    },
    {
     "cell_type": "heading",
     "level": 1,
     "metadata": {
      "slideshow": {
       "slide_type": "slide"
      }
     },
     "source": [
      "Fundamental Physiology"
     ]
    },
    {
     "cell_type": "heading",
     "level": 2,
     "metadata": {
      "slideshow": {
       "slide_type": "slide"
      }
     },
     "source": [
      "Physiology"
     ]
    },
    {
     "cell_type": "heading",
     "level": 3,
     "metadata": {
      "slideshow": {
       "slide_type": "fragment"
      }
     },
     "source": [
      "study the function of organisms    \n"
     ]
    },
    {
     "cell_type": "heading",
     "level": 3,
     "metadata": {
      "slideshow": {
       "slide_type": "fragment"
      }
     },
     "source": [
      "how life works"
     ]
    },
    {
     "cell_type": "heading",
     "level": 1,
     "metadata": {
      "slideshow": {
       "slide_type": "slide"
      }
     },
     "source": [
      "Explanations of physiological processes"
     ]
    },
    {
     "cell_type": "markdown",
     "metadata": {
      "slideshow": {
       "slide_type": "fragment"
      }
     },
     "source": [
      "![cycle](./img/cycle.jpg)"
     ]
    },
    {
     "cell_type": "heading",
     "level": 1,
     "metadata": {
      "slideshow": {
       "slide_type": "slide"
      }
     },
     "source": [
      "Integrative"
     ]
    },
    {
     "cell_type": "markdown",
     "metadata": {
      "slideshow": {
       "slide_type": "slide"
      }
     },
     "source": [
      "![from cell to environment](./img/integrative.jpg)"
     ]
    },
    {
     "cell_type": "heading",
     "level": 1,
     "metadata": {
      "slideshow": {
       "slide_type": "slide"
      }
     },
     "source": [
      "Comparative"
     ]
    },
    {
     "cell_type": "markdown",
     "metadata": {
      "slideshow": {
       "slide_type": "slide"
      }
     },
     "source": [
      "![Comparative Physiology](./img/comparative.jpg)"
     ]
    },
    {
     "cell_type": "markdown",
     "metadata": {
      "slideshow": {
       "slide_type": "slide"
      }
     },
     "source": [
      "frank "
     ]
    },
    {
     "cell_type": "code",
     "collapsed": false,
     "input": [],
     "language": "python",
     "metadata": {},
     "outputs": []
    }
   ],
   "metadata": {}
  }
 ]
}