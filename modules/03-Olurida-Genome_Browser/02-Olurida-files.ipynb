{
 "metadata": {
  "name": "",
  "signature": "sha256:a60fd4e1132508ddad5746463b79f062f5c119ad9016435037d103fc5c9bca8d"
 },
 "nbformat": 3,
 "nbformat_minor": 0,
 "worksheets": [
  {
   "cells": [
    {
     "cell_type": "code",
     "collapsed": false,
     "input": [
      "!fgrep -c \"@\" /Volumes/web/cnidarian/OlyO_Pat_PacBio_1.fastq"
     ],
     "language": "python",
     "metadata": {},
     "outputs": [
      {
       "output_type": "stream",
       "stream": "stdout",
       "text": [
        "47475\r\n"
       ]
      }
     ],
     "prompt_number": 4
    },
    {
     "cell_type": "code",
     "collapsed": false,
     "input": [
      "!fgrep -c \">\" /Volumes/web/cnidarian/OlyO_Pat_PacBio_10k.fa"
     ],
     "language": "python",
     "metadata": {},
     "outputs": [
      {
       "output_type": "stream",
       "stream": "stdout",
       "text": [
        "3058\r\n"
       ]
      }
     ],
     "prompt_number": 6
    },
    {
     "cell_type": "code",
     "collapsed": false,
     "input": [
      "!fgrep -c \">\" /Volumes/web/cnidarian/OlyO_Pat_PacBio_10k_contigs.fa"
     ],
     "language": "python",
     "metadata": {},
     "outputs": [
      {
       "output_type": "stream",
       "stream": "stdout",
       "text": [
        "553\r\n"
       ]
      }
     ],
     "prompt_number": 7
    },
    {
     "cell_type": "code",
     "collapsed": false,
     "input": [
      "!perl ../scripts/count_fasta.pl -i 5000 /Volumes/web/cnidarian/OlyO_Pat_PacBio_10k.fa\n",
      "\n"
     ],
     "language": "python",
     "metadata": {},
     "outputs": [
      {
       "output_type": "stream",
       "stream": "stdout",
       "text": [
        "\r\n",
        "10000:14999 \t2599\r\n",
        "15000:19999 \t447\r\n",
        "20000:24999 \t12\r\n",
        "\r\n",
        "Total length of sequence:\t38598330 bp\r\n",
        "Total number of sequences:\t3058\r\n",
        "N25 stats:\t\t\t25% of total sequence length is contained in the 597 sequences >= 14461 bp\r\n",
        "N50 stats:\t\t\t50% of total sequence length is contained in the 1319 sequences >= 12454 bp\r\n",
        "N75 stats:\t\t\t75% of total sequence length is contained in the 2142 sequences >= 11112 bp\r\n",
        "Total GC count:\t\t\t14625138 bp\r\n",
        "GC %:\t\t\t\t37.89 %\r\n",
        "\r\n"
       ]
      }
     ],
     "prompt_number": 16
    },
    {
     "cell_type": "code",
     "collapsed": false,
     "input": [
      "!perl ../scripts/count_fasta.pl -i 10000 /Volumes/web/cnidarian/OlyO_Pat_PacBio_10k_contigs.fa\n"
     ],
     "language": "python",
     "metadata": {},
     "outputs": [
      {
       "output_type": "stream",
       "stream": "stdout",
       "text": [
        "\r\n",
        "10000:19999 \t150\r\n",
        "20000:29999 \t295\r\n",
        "30000:39999 \t102\r\n",
        "40000:49999 \t6\r\n",
        "\r\n",
        "Total length of sequence:\t13282692 bp\r\n",
        "Total number of sequences:\t553\r\n",
        "N25 stats:\t\t\t25% of total sequence length is contained in the 98 sequences >= 30330 bp\r\n",
        "N50 stats:\t\t\t50% of total sequence length is contained in the 216 sequences >= 25912 bp\r\n",
        "N75 stats:\t\t\t75% of total sequence length is contained in the 358 sequences >= 21258 bp\r\n",
        "Total GC count:\t\t\t4971189 bp\r\n",
        "GC %:\t\t\t\t37.43 %\r\n",
        "\r\n"
       ]
      }
     ],
     "prompt_number": 14
    },
    {
     "cell_type": "code",
     "collapsed": false,
     "input": [],
     "language": "python",
     "metadata": {},
     "outputs": []
    }
   ],
   "metadata": {}
  }
 ]
}