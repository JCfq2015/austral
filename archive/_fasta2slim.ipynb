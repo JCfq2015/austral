{
 "metadata": {
  "name": "",
  "signature": "sha256:54c98cefcba869285b84756000cfe81aa51337361bba1d9df4846712fd8af465"
 },
 "nbformat": 3,
 "nbformat_minor": 0,
 "worksheets": [
  {
   "cells": [
    {
     "cell_type": "heading",
     "level": 1,
     "metadata": {},
     "source": [
      "Fasta2Slim"
     ]
    },
    {
     "cell_type": "heading",
     "level": 1,
     "metadata": {},
     "source": [
      "Please Copy and Rename this Notebook "
     ]
    },
    {
     "cell_type": "markdown",
     "metadata": {},
     "source": [
      "This IPython notebook is intended to serve as a structured means to annotate sequences using UniProt/SwissProt database. The notebook can be easily modified to personal preferences. As developed, the notebook requires the user has the following software installed ...\n",
      "\n",
      "* IPython\n",
      "* NCBI Blast\n",
      "* SQLShare Python Client\n",
      "\n",
      "---\n"
     ]
    },
    {
     "cell_type": "markdown",
     "metadata": {},
     "source": [
      "**Instructions for use.**   \n",
      "In a working directory of your choosing place query fasta file, naming as **query.fa**. Edit the cell below, providing the path to said working directory. \n",
      "\n",
      "Identify the location of the blast database you would like to use and indicate path in the cell below.\n",
      "\n",
      "Identify the location of your `sqlshare-pythonclient/tools`  and indicate path in the cell below.\n",
      "\n",
      "Change the input to the `usr` variable to reflect your SQLShare user account."
     ]
    },
    {
     "cell_type": "code",
     "collapsed": false,
     "input": [
      "#Location Variables\n",
      "wd=\"~/Desktop/test/\"\n",
      "\n",
      "db=\"/Volumes/Bay3/Software/ncbi-blast-2.2.29\\+/db/uniprot_sprot_r2013_12\"\n",
      "\n",
      "sqls=\"~/sqlshare-pythonclient/tools/\"\n",
      "\n",
      "usr=\"sr320@washington.edu\""
     ],
     "language": "python",
     "metadata": {},
     "outputs": [],
     "prompt_number": 270
    },
    {
     "cell_type": "code",
     "collapsed": false,
     "input": [
      "!head {wd}query.fa"
     ],
     "language": "python",
     "metadata": {},
     "outputs": [
      {
       "output_type": "stream",
       "stream": "stdout",
       "text": [
        ">PiuraChilensis_v1_contig_1\r\n",
        "ATTTACAATACGAAGTAAAATAGATAACGTGAAAATAATCTTGGTGCTGGATGATCGATC\r\n",
        "AAGTTCACCAATATTTTATTGTAAAAAATCATTCTAAACAGCATGAAATCGTGTACAATG\r\n",
        "TATAAACAAGCAAATATATAACACTAAAGCAAGAGGGCGTAAGTGGGGGGGTGGGTGAGA\r\n",
        "GTAAAAAATTCAAACATGTCAAATACCCCGGCGTTAGCCTTAAAAGCACCATGGACTTCT\r\n",
        "GCCTTCAATAAGCATAAAATTAAAACACCTAATACACAATGAATATACAGATAAAACAGA\r\n",
        "TTTATGAATAGTTGGTGTTACATCTTTTACAGCCATAAGCCTTCATTTTGCTTCCAAACG\r\n",
        "TATAAAATCTGACTTGGAACAATATACAGCCATGAGATATGACACAGCGAGCACTACAAT\r\n",
        "ATATATTTATCTTGTACTATACAGCCTGTACAAGAAAATTCTGGAATTGTCTTCACAAGA\r\n",
        "GACAGAAAAATAGTTGCAATGTGAATGCTAGTCTACTATTTGATCACAATTGGATAGAAA\r\n"
       ]
      }
     ],
     "prompt_number": 271
    },
    {
     "cell_type": "code",
     "collapsed": false,
     "input": [
      "#number of sequences\n",
      "!fgrep -c \">\" {wd}query.fa"
     ],
     "language": "python",
     "metadata": {},
     "outputs": [
      {
       "output_type": "stream",
       "stream": "stdout",
       "text": [
        "282\r\n"
       ]
      }
     ],
     "prompt_number": 272
    },
    {
     "cell_type": "heading",
     "level": 2,
     "metadata": {},
     "source": [
      "Blast"
     ]
    },
    {
     "cell_type": "code",
     "collapsed": false,
     "input": [
      "!blastx \\\n",
      "-query {wd}query.fa \\\n",
      "-db {db} \\\n",
      "-max_target_seqs 1 \\\n",
      "-max_hsps 1 \\\n",
      "-outfmt 6 \\\n",
      "-evalue 1E-05 \\\n",
      "-num_threads 2 \\\n",
      "-out {wd}blast_sprot.tab"
     ],
     "language": "python",
     "metadata": {},
     "outputs": []
    },
    {
     "cell_type": "heading",
     "level": 3,
     "metadata": {},
     "source": [
      "Number of matched sequences:"
     ]
    },
    {
     "cell_type": "code",
     "collapsed": false,
     "input": [
      "!wc -l {wd}blast_sprot.tab "
     ],
     "language": "python",
     "metadata": {},
     "outputs": [
      {
       "output_type": "stream",
       "stream": "stdout",
       "text": [
        "     211 /Users/sr320/Desktop/test/blast_sprot.tab\r\n"
       ]
      }
     ],
     "prompt_number": 273
    },
    {
     "cell_type": "code",
     "collapsed": false,
     "input": [
      "!tr '|' \"\\t\" <{wd}blast_sprot.tab> {wd}blast_sprot_sql.tab \n",
      "!head -1 {wd}blast_sprot.tab\n",
      "!echo SQLShare ready version has Pipes converted to Tabs ....\n",
      "!head -1 {wd}blast_sprot_sql.tab "
     ],
     "language": "python",
     "metadata": {},
     "outputs": [
      {
       "output_type": "stream",
       "stream": "stdout",
       "text": [
        "PiuraChilensis_v1_contig_3\tsp|Q6P9A1|ZN530_HUMAN\t33.33\t105\t61\t3\t825\t1118\t414\t516\t1e-07\t57.4\r\n"
       ]
      },
      {
       "output_type": "stream",
       "stream": "stdout",
       "text": [
        "SQLShare ready version has Pipes converted to Tabs ....\r\n"
       ]
      },
      {
       "output_type": "stream",
       "stream": "stdout",
       "text": [
        "PiuraChilensis_v1_contig_3\tsp\tQ6P9A1\tZN530_HUMAN\t33.33\t105\t61\t3\t825\t1118\t414\t516\t1e-07\t57.4\r\n"
       ]
      }
     ],
     "prompt_number": 274
    },
    {
     "cell_type": "heading",
     "level": 1,
     "metadata": {},
     "source": [
      "Joining in SQL Share"
     ]
    },
    {
     "cell_type": "code",
     "collapsed": false,
     "input": [
      "!python {sqls}singleupload.py \\\n",
      "-d _blast_sprot \\\n",
      "{wd}blast_sprot_sql.tab "
     ],
     "language": "python",
     "metadata": {},
     "outputs": [
      {
       "output_type": "stream",
       "stream": "stdout",
       "text": [
        "processing chunk line 0 to 211 (0.000227928161621 s elapsed)\r\n",
        "pushing /Users/sr320/Desktop/test/blast_sprot_sql.tab...\r\n"
       ]
      },
      {
       "output_type": "stream",
       "stream": "stdout",
       "text": [
        "parsing B1F5375A...\r\n"
       ]
      },
      {
       "output_type": "stream",
       "stream": "stdout",
       "text": [
        "finished _blast_sprot\r\n"
       ]
      }
     ],
     "prompt_number": 275
    },
    {
     "cell_type": "code",
     "collapsed": false,
     "input": [
      "!python {sqls}fetchdata.py \\\n",
      "-s \"SELECT Column1, term, GOSlim_bin, aspect, ProteinName FROM [{usr}].[_blast_sprot]md left join [samwhite@washington.edu].[UniprotProtNamesReviewed_yes20130610]sp on md.Column3=sp.SPID left join [sr320@washington.edu].[SPID and GO Numbers]go on md.Column3=go.SPID left join [sr320@washington.edu].[GO_to_GOslim]slim on go.GOID=slim.GO_id where aspect like 'P'\" \\\n",
      "-f tsv \\\n",
      "-o {wd}GOdescriptions.txt"
     ],
     "language": "python",
     "metadata": {},
     "outputs": [],
     "prompt_number": 276
    },
    {
     "cell_type": "code",
     "collapsed": false,
     "input": [
      "!head -2 {wd}GOdescriptions.txt"
     ],
     "language": "python",
     "metadata": {},
     "outputs": [
      {
       "output_type": "stream",
       "stream": "stdout",
       "text": [
        "Column1\tterm\tGOSlim_bin\taspect\tProteinName\r",
        "\r\n",
        "PiuraChilensis_v1_contig_209\treproduction\tother biological processes\tP\tSerine/threonine-protein kinase/endoribonuclease ire-1 (Inositol-requiring protein 2) [Includes: Serine/threonine-protein kinase (EC 2.7.11.1); Endoribonuclease (EC 3.1.26.-)]\r",
        "\r\n"
       ]
      }
     ],
     "prompt_number": 277
    },
    {
     "cell_type": "heading",
     "level": 4,
     "metadata": {},
     "source": [
      "Plot GoSlim terms"
     ]
    },
    {
     "cell_type": "code",
     "collapsed": false,
     "input": [
      "%pylab inline"
     ],
     "language": "python",
     "metadata": {},
     "outputs": [
      {
       "output_type": "stream",
       "stream": "stdout",
       "text": [
        "Populating the interactive namespace from numpy and matplotlib\n"
       ]
      },
      {
       "output_type": "stream",
       "stream": "stderr",
       "text": [
        "WARNING: pylab import has clobbered these variables: ['info', 'datetime', 'load', 'save', 'unique']\n",
        "`%matplotlib` prevents importing * from pylab and numpy\n"
       ]
      }
     ],
     "prompt_number": 278
    },
    {
     "cell_type": "code",
     "collapsed": false,
     "input": [
      "cd {wd}"
     ],
     "language": "python",
     "metadata": {},
     "outputs": [
      {
       "output_type": "stream",
       "stream": "stdout",
       "text": [
        "/Users/sr320/Desktop/test\n"
       ]
      }
     ],
     "prompt_number": 279
    },
    {
     "cell_type": "code",
     "collapsed": false,
     "input": [
      "from pandas import *\n",
      "\n",
      "gs = read_table('GOdescriptions.txt')"
     ],
     "language": "python",
     "metadata": {},
     "outputs": [],
     "prompt_number": 280
    },
    {
     "cell_type": "code",
     "collapsed": false,
     "input": [
      "gs.groupby('GOSlim_bin').Column1.count().plot(kind='barh', color=list('y'))\n",
      "savefig('GOSlim.png', bbox_inches='tight')\n",
      "\n"
     ],
     "language": "python",
     "metadata": {},
     "outputs": [
      {
       "metadata": {},
       "output_type": "display_data",
       "png": "[encoded data removed]",
       "text": [
        "<matplotlib.figure.Figure at 0x10ae1d110>"
       ]
      }
     ],
     "prompt_number": 281
    },
    {
     "cell_type": "code",
     "collapsed": false,
     "input": [],
     "language": "python",
     "metadata": {},
     "outputs": [],
     "prompt_number": 281
    }
   ],
   "metadata": {}
  }
 ]
}