{
 "metadata": {
  "name": "",
  "signature": "sha256:90f91851f161c6744fd47e1b3c66e28f8ab00245d3216667c5118b1f60a1a127"
 },
 "nbformat": 3,
 "nbformat_minor": 0,
 "worksheets": [
  {
   "cells": [
    {
     "cell_type": "heading",
     "level": 1,
     "metadata": {},
     "source": [
      "Compare SNPs"
     ]
    },
    {
     "cell_type": "markdown",
     "metadata": {},
     "source": [
      "Post Fastx trim - two species Coquimbo files (fastq) assembled CLC"
     ]
    },
    {
     "cell_type": "code",
     "collapsed": false,
     "input": [],
     "language": "python",
     "metadata": {},
     "outputs": []
    }
   ],
   "metadata": {}
  }
 ]
}