{
 "metadata": {
  "name": "",
  "signature": "sha256:ef83841928bca8c64f9f364fae3853175a6e9262cb134d232f5dfecc8254bc41"
 },
 "nbformat": 3,
 "nbformat_minor": 0,
 "worksheets": [
  {
   "cells": [
    {
     "cell_type": "heading",
     "level": 1,
     "metadata": {},
     "source": [
      "Using Draft Genomic Scaffold for Genome Browser (IGV)"
     ]
    },
    {
     "cell_type": "code",
     "collapsed": false,
     "input": [
      "#3058 sequences > 10000 bp combined to 553 contigs"
     ],
     "language": "python",
     "metadata": {},
     "outputs": [],
     "prompt_number": 8
    },
    {
     "cell_type": "markdown",
     "metadata": {},
     "source": [
      "http://eagle.fish.washington.edu/cnidarian/OlyO_Pat_PacBio_10k_contigs.fa"
     ]
    },
    {
     "cell_type": "heading",
     "level": 1,
     "metadata": {},
     "source": [
      "Step 1 Install and Launch IGV"
     ]
    },
    {
     "cell_type": "markdown",
     "metadata": {},
     "source": [
      "<img src=\"http://eagle.fish.washington.edu/cnidarian/skitch/Menubar_and_Enter_URL_to__genome_or_FASTA_file_and_IGV_1A5F1262.png\" alt=\"Menubar_and_Enter_URL_to__genome_or_FASTA_file_and_IGV_1A5F1262.png\"/>"
     ]
    },
    {
     "cell_type": "markdown",
     "metadata": {},
     "source": [
      "#Available RNA-seq Data\n",
      "Olympia oyster sequencing efforts have spawned from studies examining the influence of ocean acidification and a study examining local adaptation in Puget Sound. As of March 2014 the libraries constructed and sequencing data include the following\n",
      "\n",
      "|       ID | Stage | Notes |\n",
      "|------------ | ------------- | ------------ |\n",
      "|Ol-larv 400_1 | larvae  | 0112; 012159; 36SE|\n",
      "|Ol-larv 2000_1 | larvae  | 0112; 012159; 36SE|\n",
      "|Ol-larv 400_2 | larvae  | 0812; 103939; 36SE|\n",
      "|Ol-larv 1000_2 | larvae  | 0812; 103939; 36SE|\n",
      "|Ol-larv 1600_2 | larvae  | 0812; 103939; 36SE|\n",
      "|Ol-larv 2200_2 | larvae  | 0812; 103939; 36SE|\n",
      "|Ol-Femalemix_106a | gonad | 36SE  |\n",
      "|Ol-Malemix_106a | gonad | 36SE  |\n",
      "|Ol-Femalemix_108a | gonad | 36SE  |\n",
      "|Ol-Malemix_108a | gonad | 36SE  |\n",
      "|Ol-Femalemix_106A | gonad | 72PE  |\n",
      "|Ol-Malemix_106A | gonad | 72PE  |\n",
      "|Ol-Femalemix_108A | gonad | 72PE  |\n",
      "|Ol-Malemix_108A | gonad | 72PE  |\n",
      "\n",
      "\n",
      "\n",
      "---\n",
      "\n",
      "Libraries Ol-larv 400-1 and Ol-larv 2000-1 were described as part of the publication:   \n",
      "\n",
      "Timmins-Schiffman, E. B., Friedman, C. S., Metzger, D. C., White, S. J. and Roberts, S. B. (2013), Genomic resource development for shellfish of conservation concern. Molecular Ecology Resources, 13: 295\u2013305. doi: 10.1111/1755-0998.12052\n",
      "\n",
      "\n",
      ">Larvae were transferred to the University of Washington 12 h post spawning. Larvae (12 larvae/mL) were evenly distributed to six 4.5-L larval chambers. Larvae were sampled from all chambers by filtering them onto a 35 \u03bcm screen and flash freezing in liquid N2 on days one, two and three post-fertilization. Two RNA-seq libraries (Ol-larv 400_1 and Ol-larv 2000_1) were constructed from pooled mRNA (13 \u03bcg per sample).\n",
      "\n",
      "Raw data is available in the following locations   \n",
      "NCBI: http://www.ncbi.nlm.nih.gov/sra/SRX175407   \n",
      "\n",
      "IPlant: \n",
      "\n",
      "* [Ol-larv 400_1](http://de.iplantcollaborative.org/dl/FF531324-6E84-420B-B833-FC0AFE1E8867)\n",
      "* [Ol-larv 2000_1](http://de.iplantcollaborative.org/dl/FD87C442-8957-4DB6-B8E3-881C47E9FA92)\n",
      " \n",
      "\n",
      "\n",
      "---\n",
      "\n",
      "In late 2012, four more libraries were made and sequenced, however this time these libraries were all run in a single lane on the Illumina HiSeq.\n",
      "\n",
      "_Ostrea lurida_ larvae were subjected to four different pCO2 treatments (400, 1000, 1600 and 2200ppm) from a Friedman Lab ocean acidification experiment.  RNA was isolated from three groups of larvae from each pCO2 treatment using TriReagent (Molecular Research Center) according to the manufacturer's protocol.  RNA was resuspended in 100uL of 0.1% DEPC-treated H2O.  Concentrations and quality (OD260/280 ratio) were assessed with a NanoDrop1000 (ThermoFisher).  Five micrograms of total RNA from each larval group within each pCO2 treatment were pooled.  Four total RNA pools, each pool representing each pCO2 treatment, were submitted for single-end Illumina sequencing at the High Throughput Genomics Unit (HTGU; University of Washington) for sequencing.  All four samples were sequenced together in a single lane.\n",
      " \n",
      "Data is available in the following locations   \n",
      "IPlant: \n",
      "   \n",
      "* [Ol-larv 400_2](http://de.iplantcollaborative.org/dl/4EA24388-C236-46BB-9B32-8DAC0ADA1CAF)     \n",
      "* [Ol-larv 1000_2](http://de.iplantcollaborative.org/dl/F33BDB60-A38F-48D4-8624-778AEA54D8CE)   \n",
      "* [Ol-larv 1600_2](http://de.iplantcollaborative.org/dl/AF737A37-B9D2-4A5D-A36C-BD1A56CF3CF6)   \n",
      "* [Ol-larv 2200_2](http://de.iplantcollaborative.org/dl/594948BE-6FAC-45D1-AD54-D9210E990399)  \n",
      "\n",
      "\n",
      "\n",
      "\n",
      "---\n",
      "\n",
      "\n",
      "\n",
      "In order to characterize the reproductive transcriptome of the Olympia oyster four libraries were made in from pooled gonad samples. The IDs were 106A_Female, 106A_Male, 108A_Female, 108A_Female.    \n",
      "\n",
      "<insert description of what went into these libraries>\n",
      "\n",
      " These libraries were done in late 2012 and were sequenced on the Illumina HiSeqplatform on a 72PE run. An additional lane was run as a bonus as 36SE. \n",
      " \n",
      " \n",
      "Raw data is available in the following locations   \n",
      "IPlant  \n",
      " \n",
      "* [Ol-Femalemix_106a](http://de.iplantcollaborative.org/dl/EA748B7B-82D8-4209-A4A3-DBE4D3D7EACC) \n",
      "* [Ol-Malemix_106a](http://de.iplantcollaborative.org/dl/7644B286-524F-4053-9972-2215BF514A92)\n",
      "* [Ol-Femalemix_108a](http://de.iplantcollaborative.org/dl/7F43EC7F-F3D1-443E-8796-687626BF18B4)\n",
      "* [Ol-Malemix_108a](http://de.iplantcollaborative.org/dl/7CA3F117-BE11-4A33-9432-11C9DD3F8729)\n",
      "\n",
      "<br> \n",
      "\n",
      "* [Ol-Femalemix 106A_R1](http://de.iplantcollaborative.org/dl/FE3A9DB6-E428-4DF3-B9BD-A3C505751A56)   \n",
      "* [Ol-Femalemix 106A_R2](http://de.iplantcollaborative.org/dl/8146CA1A-E6EE-4CD0-8146-F66ADAC817CF)     \n",
      "* [Ol-Malemix 106A_R1](http://de.iplantcollaborative.org/dl/2CD3938A-BC12-4272-9486-06FE5AF878FF)   \n",
      "* [Ol-Malemix 106A_R2](http://de.iplantcollaborative.org/dl/E649C778-3663-42E7-B494-18790020C9BC)   \n",
      "* [Ol-Femalemix 108A_R1](http://de.iplantcollaborative.org/dl/BBCE0450-6CD9-4939-A35E-229EA57740B6)    \n",
      "* [Ol-Femalemix 108A_R2](http://de.iplantcollaborative.org/dl/1B36CECC-B42E-4761-A4C3-06F40AC696C6)   \n",
      "* [Ol-Malemix 108A_R1](http://de.iplantcollaborative.org/dl/943090E8-CAE4-49D1-8A94-E4462317452B)   \n",
      "* [Ol-Malemix 108A_R2](http://de.iplantcollaborative.org/dl/B92CBF6E-CAB7-4334-9FEC-3B6EB560FAA6)   \n",
      "\n",
      " \n",
      " "
     ]
    },
    {
     "cell_type": "heading",
     "level": 1,
     "metadata": {},
     "source": [
      "Step 2 Make a Genome Feature Track"
     ]
    },
    {
     "cell_type": "markdown",
     "metadata": {},
     "source": [
      "<img src=\"http://eagle.fish.washington.edu/cnidarian/skitch/_56__Discovery_Environment_1A5F2084.png\" alt=\"_56__Discovery_Environment_1A5F2084.png\"/>"
     ]
    },
    {
     "cell_type": "markdown",
     "metadata": {},
     "source": [
      "Supplement - 01\n"
     ]
    },
    {
     "cell_type": "code",
     "collapsed": false,
     "input": [],
     "language": "python",
     "metadata": {},
     "outputs": []
    }
   ],
   "metadata": {}
  }
 ]
}