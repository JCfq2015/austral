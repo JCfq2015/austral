{
 "metadata": {
  "name": "",
  "signature": "sha256:237da871370ef745bbaca6f5301e94dac22968560c3cc3c76b12c8b041c9237a"
 },
 "nbformat": 3,
 "nbformat_minor": 0,
 "worksheets": [
  {
   "cells": [
    {
     "cell_type": "heading",
     "level": 1,
     "metadata": {},
     "source": [
      "Exploring array data"
     ]
    },
    {
     "cell_type": "markdown",
     "metadata": {},
     "source": [
      "summary - 3 oysters sampled pre and post heat shock"
     ]
    },
    {
     "cell_type": "markdown",
     "metadata": {},
     "source": [
      "```\n",
      "Hi Claire,\n",
      "\n",
      "Attached is a plot that highlights the approach we have decided to\n",
      "pursue...  The plot shows the averaged ratio of IP/Input between HS and\n",
      "pre-HS samples.  As you'll note, the slope of this data in not ~1.0, but\n",
      "is 0.45.  Given the whole dataset shows this trend, I think it is safe\n",
      "to assume that the difference in distributions seen by our earlier\n",
      "assessment of box plots of this data points to an artifact - produced\n",
      "either at the IP stage and/or the hyb stage.  That said, I'm starting to\n",
      "think that this is likely not a hyb/array issues...  In any event, we\n",
      "can simply adjust for this trend and proceed with the analysis. So doing\n",
      "this adjustment and taking those HS probe values that are \u22651.8x the\n",
      "pre-HS values (relative hyper-methylation highlighted in red) and those\n",
      "HS probe values that are \u2264-1.8x the pre-HS values (relative\n",
      "hypo-methylation highlighted in green), we can create a list of relative\n",
      "hyper- and hypo- methylated probes and map them back to the sequence\n",
      "scaffolds.\n",
      "\n",
      "Ryan has constructed two different results files using this approach...\n",
      "\n",
      "-- He defined the gene+promoter locus to include 1000 bps upstream of\n",
      "the gene body.  The accompanying files list the relative hyper (and\n",
      "hypo) probe densities within these loci, with a limit of 3 probes as a\n",
      "cutoff.  You will not that some genes show heavy hyper/hypo methylation\n",
      "difference between the two states.\n",
      "\n",
      "-- He also generated .gff files that show locations in which there are \u2265\n",
      "3 consecutive probes displaying relative hyper/hypo methylation\n",
      "differences.  These files can be viewed in a genome browser.  Scaffolds\n",
      "can be ID'ed by viewing these files in a text editor.\n",
      "\n",
      "When you have a moment, I would greatly appreciate some feedback on the\n",
      "emails I've sent you over the last week and whether this analysis is\n",
      "helpful to you.\n",
      "\n",
      "Best, Jeff\n",
      "```\n"
     ]
    },
    {
     "cell_type": "code",
     "collapsed": false,
     "input": [
      "!head /Volumes/web/cnidarian/2014.06.20.lt1.8_gt3adjactentProbes.gff"
     ],
     "language": "python",
     "metadata": {},
     "outputs": [
      {
       "output_type": "stream",
       "stream": "stdout",
       "text": [
        "scaffold100\tOysterV9\tprobes\t804272\t804322\t1\t.\t.\tscaffold100:+:804272\r",
        "\r\n",
        "scaffold100\tOysterV9\tprobes\t804407\t804457\t1\t.\t.\tscaffold100:+:804407\r",
        "\r\n",
        "scaffold100\tOysterV9\tprobes\t804532\t804582\t1\t.\t.\tscaffold100:+:804532\r",
        "\r\n",
        "scaffold100\tOysterV9\tprobes\t804652\t804703\t1\t.\t.\tscaffold100:+:804652\r",
        "\r\n",
        "scaffold100\tOysterV9\tprobes\t804787\t804844\t1\t.\t.\tscaffold100:+:804787\r",
        "\r\n",
        "scaffold100\tOysterV9\tprobes\t804897\t804960\t1\t.\t.\tscaffold100:+:804897\r",
        "\r\n",
        "scaffold100\tOysterV9\tprobes\t805157\t805213\t1\t.\t.\tscaffold100:+:805157\r",
        "\r\n",
        "scaffold100\tOysterV9\tprobes\t805287\t805337\t1\t.\t.\tscaffold100:+:805287\r",
        "\r\n",
        "scaffold100\tOysterV9\tprobes\t805402\t805452\t1\t.\t.\tscaffold100:+:805402\r",
        "\r\n",
        "scaffold1016\tOysterV9\tprobes\t202657\t202722\t1\t.\t.\tscaffold1016:+:202657\r",
        "\r\n"
       ]
      }
     ],
     "prompt_number": 1
    },
    {
     "cell_type": "code",
     "collapsed": false,
     "input": [
      "!tail /Volumes/web/cnidarian/2014.06.20.lt1.8_gt3adjactentProbes.gff"
     ],
     "language": "python",
     "metadata": {},
     "outputs": [
      {
       "output_type": "stream",
       "stream": "stdout",
       "text": [
        "scaffold983\tOysterV9\tprobes\t16959\t17017\t1\t.\t.\tscaffold983:+:16959\r",
        "\r\n",
        "scaffold983\tOysterV9\tprobes\t17069\t17119\t1\t.\t.\tscaffold983:+:17069\r",
        "\r\n",
        "scaffold983\tOysterV9\tprobes\t17209\t17259\t1\t.\t.\tscaffold983:+:17209\r",
        "\r\n",
        "scaffold983\tOysterV9\tprobes\t17339\t17389\t1\t.\t.\tscaffold983:+:17339\r",
        "\r\n",
        "scaffold983\tOysterV9\tprobes\t17444\t17503\t1\t.\t.\tscaffold983:+:17444\r",
        "\r\n",
        "scaffold983\tOysterV9\tprobes\t17569\t17619\t1\t.\t.\tscaffold983:+:17569\r",
        "\r\n",
        "scaffold983\tOysterV9\tprobes\t17694\t17744\t1\t.\t.\tscaffold983:+:17694\r",
        "\r\n",
        "scaffold983\tOysterV9\tprobes\t17819\t17870\t1\t.\t.\tscaffold983:+:17819\r",
        "\r\n",
        "scaffold983\tOysterV9\tprobes\t17944\t17994\t1\t.\t.\tscaffold983:+:17944\r",
        "\r\n",
        "scaffold983\tOysterV9\tprobes\t18089\t18139\t1\t.\t.\tscaffold983:+:18089\r",
        "\r\n"
       ]
      }
     ],
     "prompt_number": 7
    },
    {
     "cell_type": "code",
     "collapsed": false,
     "input": [
      "!head /Volumes/web/cnidarian/2014.06.20.gt1.8_gt3adjactentProbes.gff"
     ],
     "language": "python",
     "metadata": {},
     "outputs": [
      {
       "output_type": "stream",
       "stream": "stdout",
       "text": [
        "scaffold100\tOysterV9\tprobes\t636974\t637034\t1\t.\t.\tscaffold100:+:636974\r",
        "\r\n",
        "scaffold100\tOysterV9\tprobes\t637084\t637143\t1\t.\t.\tscaffold100:+:637084\r",
        "\r\n",
        "scaffold100\tOysterV9\tprobes\t637209\t637276\t1\t.\t.\tscaffold100:+:637209\r",
        "\r\n",
        "scaffold102\tOysterV9\tprobes\t303196\t303251\t1\t.\t.\tscaffold102:+:303196\r",
        "\r\n",
        "scaffold102\tOysterV9\tprobes\t303336\t303394\t1\t.\t.\tscaffold102:+:303336\r",
        "\r\n",
        "scaffold102\tOysterV9\tprobes\t303521\t303576\t1\t.\t.\tscaffold102:+:303521\r",
        "\r\n",
        "scaffold1032\tOysterV9\tprobes\t634021\t634085\t1\t.\t.\tscaffold1032:+:634021\r",
        "\r\n",
        "scaffold1032\tOysterV9\tprobes\t634156\t634218\t1\t.\t.\tscaffold1032:+:634156\r",
        "\r\n",
        "scaffold1032\tOysterV9\tprobes\t634281\t634333\t1\t.\t.\tscaffold1032:+:634281\r",
        "\r\n",
        "scaffold1032\tOysterV9\tprobes\t700173\t700230\t1\t.\t.\tscaffold1032:+:700173\r",
        "\r\n"
       ]
      }
     ],
     "prompt_number": 2
    },
    {
     "cell_type": "code",
     "collapsed": false,
     "input": [
      "!wc /Volumes/web/cnidarian/2014.06.20.lt1.8_gt3adjactentProbes.gff"
     ],
     "language": "python",
     "metadata": {},
     "outputs": [
      {
       "output_type": "stream",
       "stream": "stdout",
       "text": [
        "     362    3258   25411 /Volumes/web/cnidarian/2014.06.20.lt1.8_gt3adjactentProbes.gff\r\n"
       ]
      }
     ],
     "prompt_number": 3
    },
    {
     "cell_type": "code",
     "collapsed": false,
     "input": [
      "!wc /Volumes/web/cnidarian/2014.06.20.gt1.8_gt3adjactentProbes.gff"
     ],
     "language": "python",
     "metadata": {},
     "outputs": [
      {
       "output_type": "stream",
       "stream": "stdout",
       "text": [
        "     164    1476   11557 /Volumes/web/cnidarian/2014.06.20.gt1.8_gt3adjactentProbes.gff\r\n"
       ]
      }
     ],
     "prompt_number": 4
    },
    {
     "cell_type": "code",
     "collapsed": false,
     "input": [
      "!wc /Volumes/web/cnidarian/2014.06.20.gt1.8_gt3adjactentProbes.gff"
     ],
     "language": "python",
     "metadata": {},
     "outputs": [
      {
       "output_type": "stream",
       "stream": "stdout",
       "text": [
        "     164    1476   11557 /Volumes/web/cnidarian/2014.06.20.gt1.8_gt3adjactentProbes.gff\r\n"
       ]
      }
     ],
     "prompt_number": 27
    },
    {
     "cell_type": "code",
     "collapsed": false,
     "input": [
      "#would love to get summmary stats for colum1"
     ],
     "language": "python",
     "metadata": {},
     "outputs": [],
     "prompt_number": 8
    },
    {
     "cell_type": "code",
     "collapsed": false,
     "input": [
      "!awk '{a[$1FS$2]=a[$1FS$2]?a[$1FS$2]$3FS$4:$3FS$4} END {for (i in a) print i,a[i]}' /Volumes/web/cnidarian/2014.06.20.gt1.8_gt3adjactentProbes.gff"
     ],
     "language": "python",
     "metadata": {},
     "outputs": [
      {
       "output_type": "stream",
       "stream": "stdout",
       "text": [
        "scaffold445 OysterV9 probes 590385probes 590520probes 590635probes 590760\r\n",
        "scaffold1262 OysterV9 probes 242602probes 242727probes 242852\r\n",
        "scaffold712 OysterV9 probes 8868probes 9078probes 9218probes 9343probes 9463\r\n",
        "scaffold977 OysterV9 probes 155371probes 155497probes 155622\r\n",
        "scaffold79 OysterV9 probes 673485probes 673630probes 673750\r\n",
        "scaffold1476 OysterV9 probes 241689probes 241824probes 241929\r\n",
        "scaffold204 OysterV9 probes 57189probes 57334probes 57449\r\n",
        "scaffold53 OysterV9 probes 697764probes 697904probes 698010probes 698135\r\n",
        "scaffold419 OysterV9 probes 1034099probes 1034209probes 1034349probes 1233648probes 1233783probes 1233908\r\n",
        "scaffold1805 OysterV9 probes 257177probes 257302probes 257442\r\n",
        "scaffold1665 OysterV9 probes 151344probes 151479probes 151609\r\n",
        "scaffold100 OysterV9 probes 636974probes 637084probes 637209\r\n",
        "scaffold211 OysterV9 probes 199621probes 199746probes 199881\r\n",
        "scaffold260 OysterV9 probes 24100probes 24205probes 24330probes 24460\r\n",
        "scaffold847 OysterV9 probes 308982probes 309087probes 309217probes 309357\r\n",
        "scaffold44006 OysterV9 probes 112346probes 112451probes 112576\r\n",
        "scaffold1490 OysterV9 probes 236361probes 236506probes 236616probes 236831\r\n",
        "scaffold1172 OysterV9 probes 78145probes 78260probes 78385\r\n",
        "scaffold1107 OysterV9 probes 74280probes 74395probes 74520\r\n",
        "scaffold77 OysterV9 probes 1291516probes 1291641probes 1291766probes 1291881\r\n",
        "scaffold363 OysterV9 probes 556715probes 556840probes 556960\r\n",
        "scaffold698 OysterV9 probes 387392probes 387512probes 387642\r\n",
        "scaffold388 OysterV9 probes 98694probes 98829probes 98954\r\n",
        "scaffold1423 OysterV9 probes 382925probes 383050probes 383170\r\n",
        "scaffold43364 OysterV9 probes 184632probes 184742probes 184882\r\n",
        "scaffold416 OysterV9 probes 301729probes 301859probes 301994\r\n",
        "scaffold853 OysterV9 probes 415440probes 415565probes 415710\r\n",
        "scaffold189 OysterV9 probes 214155probes 214280probes 214400\r\n",
        "scaffold42030 OysterV9 probes 30895probes 31020probes 31155\r\n",
        "scaffold1583 OysterV9 probes 976277probes 976422probes 976542\r\n",
        "scaffold1447 OysterV9 probes 305773probes 305913probes 306038\r\n",
        "scaffold1637 OysterV9 probes 227412probes 227552probes 227672probes 227802\r\n",
        "scaffold43396 OysterV9 probes 248156probes 248266probes 248401probes 248516probes 248661\r\n",
        "scaffold290 OysterV9 probes 66228probes 66373probes 66478\r\n",
        "scaffold1112 OysterV9 probes 169254probes 169379probes 169514\r\n",
        "scaffold1818 OysterV9 probes 39098probes 39203probes 39338\r\n",
        "scaffold257 OysterV9 probes 1235166probes 1235311probes 1235431\r\n",
        "scaffold801 OysterV9 probes 337908probes 338038probes 338163probes 338293probes 383139probes 383259probes 383389probes 383514probes 383619\r\n",
        "scaffold376 OysterV9 probes 334626probes 334851probes 335471\r\n",
        "scaffold1890 OysterV9 probes 126418probes 126558probes 126673\r\n",
        "scaffold1032 OysterV9 probes 634021probes 634156probes 634281probes 700173probes 700318probes 700433probes 700563\r\n",
        "scaffold186 OysterV9 probes 113924probes 114064probes 114212\r\n",
        "scaffold43290 OysterV9 probes 111484probes 111629probes 111754probes 111862\r\n",
        "scaffold771 OysterV9 probes 88037probes 88167probes 88302probes 88407\r\n",
        "scaffold22 OysterV9 probes 1744921probes 1745046probes 1745176\r\n",
        "scaffold102 OysterV9 probes 303196probes 303336probes 303521\r\n"
       ]
      }
     ],
     "prompt_number": 5
    },
    {
     "cell_type": "code",
     "collapsed": false,
     "input": [
      "!awk '{a[$1FS$2]=a[$1FS$2]?a[$1FS$2]$3FS$4:$3FS$4} END {for (i in a) print i,a[i]}' /Volumes/web/cnidarian/2014.06.20.lt1.8_gt3adjactentProbes.gff"
     ],
     "language": "python",
     "metadata": {},
     "outputs": [
      {
       "output_type": "stream",
       "stream": "stdout",
       "text": [
        "scaffold43798 OysterV9 probes 16853probes 16978probes 17088probes 17228probes 17348\r\n",
        "scaffold39522 OysterV9 probes 8101probes 8216probes 8331\r\n",
        "scaffold1901 OysterV9 probes 351385probes 351510probes 351660probes 351780probes 351910probes 352015\r\n",
        "scaffold1737 OysterV9 probes 503503probes 504058probes 504568\r\n",
        "scaffold1625 OysterV9 probes 96880probes 97025probes 97145probes 97265probes 97380probes 97505\r\n",
        "scaffold247 OysterV9 probes 141886probes 142016probes 142156probes 142261probes 142386probes 143512probes 143647probes 143762probes 144032probes 144152probes 144282probes 144407probes 144527probes 144655probes 144770\r\n",
        "scaffold42448 OysterV9 probes 22419probes 22564probes 22689\r\n",
        "scaffold506 OysterV9 probes 57542probes 57662probes 57777\r\n",
        "scaffold1253 OysterV9 probes 42578probes 42743probes 42863probes 43108probes 43468\r\n",
        "scaffold514 OysterV9 probes 186779probes 186919probes 187049probes 187263probes 511251probes 511371probes 511511\r\n",
        "scaffold39778 OysterV9 probes 67964probes 68089probes 68234probes 68485\r\n",
        "scaffold1307 OysterV9 probes 648524probes 648649probes 648754\r\n",
        "scaffold1237 OysterV9 probes 259590probes 260207probes 261132\r\n",
        "scaffold12 OysterV9 probes 244081probes 244211probes 244326\r\n",
        "scaffold675 OysterV9 probes 127117probes 127242probes 127377\r\n",
        "scaffold142 OysterV9 probes 238254probes 238379probes 238509probes 238644probes 656145probes 656270probes 656410probes 656560probes 656685\r\n",
        "scaffold41472 OysterV9 probes 97526probes 97651probes 97776probes 97901probes 98036\r\n",
        "scaffold1322 OysterV9 probes 409153probes 409273probes 409418\r\n",
        "scaffold44098 OysterV9 probes 195288probes 195393probes 195523\r\n",
        "scaffold983 OysterV9 probes 16819probes 16959probes 17069probes 17209probes 17339probes 17444probes 17569probes 17694probes 17819probes 17944probes 18089\r\n",
        "scaffold419 OysterV9 probes 621779probes 621904probes 622044\r\n",
        "scaffold492 OysterV9 probes 344814probes 344939probes 345074\r\n",
        "scaffold100 OysterV9 probes 804272probes 804407probes 804532probes 804652probes 804787probes 804897probes 805157probes 805287probes 805402\r\n",
        "scaffold1210 OysterV9 probes 165043probes 165188probes 165299\r\n",
        "scaffold1108 OysterV9 probes 276771probes 276881probes 277021\r\n",
        "scaffold42272 OysterV9 probes 23884probes 23999probes 24134\r\n",
        "scaffold44 OysterV9 probes 372932probes 373277probes 373402probes 373522probes 373652probes 373852probes 373987probes 374122\r\n",
        "scaffold1656 OysterV9 probes 45926probes 46031probes 46166\r\n",
        "scaffold1409 OysterV9 probes 139330probes 139455probes 139630probes 139740probes 139955probes 140090probes 140450\r\n",
        "scaffold42144 OysterV9 probes 127949probes 128074probes 128209probes 129189probes 129314probes 129484probes 129654\r\n",
        "scaffold1235 OysterV9 probes 26349probes 26467probes 26597probes 26732probes 26857probes 26982probes 27092\r\n",
        "scaffold1895 OysterV9 probes 133361probes 133771probes 134201probes 134451\r\n",
        "scaffold1037 OysterV9 probes 311780probes 311940probes 312060\r\n",
        "scaffold698 OysterV9 probes 48671probes 48786probes 48921\r\n",
        "scaffold42960 OysterV9 probes 179632probes 179757probes 179902probes 180028\r\n",
        "scaffold219 OysterV9 probes 171632probes 171742probe"
       ]
      },
      {
       "output_type": "stream",
       "stream": "stdout",
       "text": [
        "s 171902\r\n",
        "scaffold1605 OysterV9 probes 149566probes 149691probes 149821\r\n",
        "scaffold544 OysterV9 probes 49580probes 49725probes 49850probes 49975probes 50100probes 50225probes 50335\r\n",
        "scaffold370 OysterV9 probes 474126probes 474246probes 474371\r\n",
        "scaffold1654 OysterV9 probes 31754probes 31859probes 31999\r\n",
        "scaffold481 OysterV9 probes 577122probes 577232probes 577352probes 577487probes 577617probes 577747probes 577872probes 577997probes 578102probes 578247probes 578357probes 578482\r\n",
        "scaffold853 OysterV9 probes 46187probes 46317probes 46440\r\n",
        "scaffold709 OysterV9 probes 412019probes 412129probes 412284probes 412434probes 412569probes 412699probes 412819\r\n",
        "scaffold242 OysterV9 probes 75919probes 76044probes 76174probes 76294\r\n",
        "scaffold189 OysterV9 probes 209553probes 209669probes 209799probes 209929\r\n",
        "scaffold1827 OysterV9 probes 304781probes 304886probes 305016probes 305156\r\n",
        "scaffold43116 OysterV9 probes 47629probes 47734probes 47859probes 48004probes 48109probes 48234probes 48379probes 48494\r\n",
        "scaffold1835 OysterV9 probes 389935probes 390067probes 390207\r\n",
        "scaffold1518 OysterV9 probes 212441probes 212556probes 212681probes 212816probes 212931probes 213076probes 213196probes 213321probes 213431probes 213556probes 213686probes 213826\r\n",
        "scaffold592 OysterV9 probes 248037probes 248182probes 248332\r\n",
        "scaffold200 OysterV9 probes 34654probes 34774probes 34919probes 35159probes 35264probes 35409probes 35519probes 35659\r\n",
        "scaffold885 OysterV9 probes 474983probes 475108probes 475218probes 475353\r\n",
        "scaffold386 OysterV9 probes 255034probes 255149probes 255284\r\n",
        "scaffold274 OysterV9 probes 459523probes 459658probes 459788probes 459913probes 460053probes 460173\r\n",
        "scaffold241 OysterV9 probes 85229probes 85349probes 85489\r\n",
        "scaffold501 OysterV9 probes 1091139probes 1091249probes 1091389\r\n",
        "scaffold394 OysterV9 probes 554939probes 555044probes 555189probes 555294probes 555434probes 555814probes 555934probes 556054probes 556174probes 558797probes 558927probes 559042\r\n",
        "scaffold258 OysterV9 probes 268712probes 268817probes 268942probes 269087probes 269197probes 269327probes 269457\r\n",
        "scaffold406 OysterV9 probes 418611probes 418716probes 419006probes 419331probes 419661\r\n",
        "scaffold393 OysterV9 probes 475293probes 475419probes 475572\r\n",
        "scaffold1532 OysterV9 probes 1408497probes 1408617probes 1408747probes 1408882probes 1409002probes 1409122\r\n",
        "scaffold541 OysterV9 probes 376951probes 377061probes 377186probes 377321probes 377446probes 377556\r\n",
        "scaffold1627 OysterV9 probes 214209probes 214324probes 214439\r\n",
        "scaffold1817 OysterV9 probes 27147probes 27287probes 27412probes 27522\r\n",
        "scaffold1024 OysterV9 probes 717736probes 717876probes 717991probes 718106\r\n",
        "scaffold72 OysterV9 probes 263459probes 263569probes 263689\r\n",
        "scaffold1016 OysterV9 probes 202657probes 202767probes 202892\r\n",
        "scaffold557 OysterV9 probes 401178probes 401288probes 401418probes 401538probes 401683\r\n",
        "scaffold747 OysterV9 probes 26185probes 26320probes 26445probes 274121probes 274261probes 274381\r\n",
        "scaffold248 OysterV9 probes 242031probes 242136probes 242261\r\n",
        "scaffold22 OysterV9 probes 1711934probes 1712049probes 1712179\r\n",
        "scaffold63 OysterV9 probes 419211probes 419333probes 419459\r\n",
        "scaffold43258 OysterV9 probes 199110probes 199255probes 199430\r\n",
        "scaffold1366 OysterV9 probes 32385probes 32880probes 33005probes 33130\r\n"
       ]
      }
     ],
     "prompt_number": 6
    },
    {
     "cell_type": "code",
     "collapsed": false,
     "input": [
      "!cut -f 1 /Volumes/web/cnidarian/2014.06.20.lt1.8_gt3adjactentProbes.gff | sort | uniq -c"
     ],
     "language": "python",
     "metadata": {},
     "outputs": [
      {
       "output_type": "stream",
       "stream": "stdout",
       "text": [
        "   9 scaffold100\r\n",
        "   3 scaffold1016\r\n",
        "   4 scaffold1024\r\n",
        "   3 scaffold1037\r\n",
        "   3 scaffold1108\r\n",
        "   3 scaffold12\r\n",
        "   3 scaffold1210\r\n",
        "   7 scaffold1235\r\n",
        "   3 scaffold1237\r\n",
        "   5 scaffold1253\r\n",
        "   3 scaffold1307\r\n",
        "   3 scaffold1322\r\n",
        "   4 scaffold1366\r\n",
        "   7 scaffold1409\r\n",
        "   9 scaffold142\r\n",
        "  12 scaffold1518\r\n",
        "   6 scaffold1532\r\n",
        "   3 scaffold1605\r\n",
        "   6 scaffold1625\r\n",
        "   3 scaffold1627\r\n",
        "   3 scaffold1654\r\n",
        "   3 scaffold1656\r\n",
        "   3 scaffold1737\r\n",
        "   4 scaffold1817\r\n",
        "   4 scaffold1827\r\n",
        "   3 scaffold1835\r\n",
        "   4 scaffold189\r\n",
        "   4 scaffold1895\r\n",
        "   6 scaffold1901\r\n",
        "   8 scaffold200\r\n",
        "   3 scaffold219\r\n",
        "   3 scaffold22\r\n",
        "   3 scaffold241\r\n",
        "   4 scaffold242\r\n",
        "  15 scaffold247\r\n",
        "   3 scaffold248\r\n",
        "   7 scaffold258\r\n",
        "   6 scaffold274\r\n",
        "   3 scaffold370\r\n",
        "   3 scaffold386\r\n",
        "   3 scaffold393\r\n",
        "  12 scaffold394\r\n",
        "   3 scaffold39522\r\n",
        "   4 scaffold39778\r\n",
        "   5 scaffold406\r\n",
        "   5 scaffold41472\r\n",
        "   3 scaffold419\r\n",
        "   7 scaffold42144\r\n",
        "   3 scaffold42272\r\n",
        "   3 scaffold42448\r\n",
        "   4 scaffold42960\r\n",
        "   8 scaffold43116\r\n",
        "   3 scaffold43258\r\n",
        "   5 scaffold43798\r\n",
        "   8 scaffold44\r\n",
        "   3 scaffold44098\r\n",
        "  12 scaffold481\r\n",
        "   3 scaffold492\r\n",
        "   3 scaffold501\r\n",
        "   3 scaffold506\r\n",
        "   7 scaffold514\r\n",
        "   6 scaffold541\r\n",
        "   7 scaffold544\r\n",
        "   5 scaffold557\r\n",
        "   3 scaffold592\r\n",
        "   3 scaffold63\r\n",
        "   3 scaffold675\r\n",
        "   3 scaffold698\r\n",
        "   7 scaffold709\r\n",
        "   3 scaffold72\r\n",
        "   6 scaffold747\r\n",
        "   3 scaffold853\r\n",
        "   4 scaffold885\r\n",
        "  11 scaffold983\r\n"
       ]
      }
     ],
     "prompt_number": 9
    },
    {
     "cell_type": "code",
     "collapsed": false,
     "input": [
      "!cut -f 1 /Volumes/web/cnidarian/2014.06.20.gt1.8_gt3adjactentProbes.gff | sort | uniq -c"
     ],
     "language": "python",
     "metadata": {},
     "outputs": [
      {
       "output_type": "stream",
       "stream": "stdout",
       "text": [
        "   3 scaffold100\r\n",
        "   3 scaffold102\r\n",
        "   7 scaffold1032\r\n",
        "   3 scaffold1107\r\n",
        "   3 scaffold1112\r\n",
        "   3 scaffold1172\r\n",
        "   3 scaffold1262\r\n",
        "   3 scaffold1423\r\n",
        "   3 scaffold1447\r\n",
        "   3 scaffold1476\r\n",
        "   4 scaffold1490\r\n",
        "   3 scaffold1583\r\n",
        "   4 scaffold1637\r\n",
        "   3 scaffold1665\r\n",
        "   3 scaffold1805\r\n",
        "   3 scaffold1818\r\n",
        "   3 scaffold186\r\n",
        "   3 scaffold189\r\n",
        "   3 scaffold1890\r\n",
        "   3 scaffold204\r\n",
        "   3 scaffold211\r\n",
        "   3 scaffold22\r\n",
        "   3 scaffold257\r\n",
        "   4 scaffold260\r\n",
        "   3 scaffold290\r\n",
        "   3 scaffold363\r\n",
        "   3 scaffold376\r\n",
        "   3 scaffold388\r\n",
        "   3 scaffold416\r\n",
        "   6 scaffold419\r\n",
        "   3 scaffold42030\r\n",
        "   4 scaffold43290\r\n",
        "   3 scaffold43364\r\n",
        "   5 scaffold43396\r\n",
        "   3 scaffold44006\r\n",
        "   4 scaffold445\r\n",
        "   4 scaffold53\r\n",
        "   3 scaffold698\r\n",
        "   5 scaffold712\r\n",
        "   4 scaffold77\r\n",
        "   4 scaffold771\r\n",
        "   3 scaffold79\r\n",
        "   9 scaffold801\r\n",
        "   4 scaffold847\r\n",
        "   3 scaffold853\r\n",
        "   3 scaffold977\r\n"
       ]
      }
     ],
     "prompt_number": 15
    },
    {
     "cell_type": "heading",
     "level": 2,
     "metadata": {},
     "source": [
      "Text Files"
     ]
    },
    {
     "cell_type": "markdown",
     "metadata": {},
     "source": [
      "!cat /Volumes/web/cnidarian/2014.06.04.hypermethylatedGenes.txt"
     ]
    },
    {
     "cell_type": "code",
     "collapsed": false,
     "input": [
      "!wc /Volumes/web/cnidarian/2014.06.04.hypermethylatedGenes.txt"
     ],
     "language": "python",
     "metadata": {},
     "outputs": [
      {
       "output_type": "stream",
       "stream": "stdout",
       "text": [
        "     284    1704   12351 /Volumes/web/cnidarian/2014.06.04.hypermethylatedGenes.txt\r\n"
       ]
      }
     ],
     "prompt_number": 28
    },
    {
     "cell_type": "markdown",
     "metadata": {},
     "source": [
      "!cat /Volumes/web/cnidarian/2014.06.04.hypomethylatedGenes.txt"
     ]
    },
    {
     "cell_type": "heading",
     "level": 2,
     "metadata": {},
     "source": [
      "Simple Join to get Functional Information"
     ]
    },
    {
     "cell_type": "heading",
     "level": 3,
     "metadata": {},
     "source": [
      "upload to SQLshare"
     ]
    },
    {
     "cell_type": "code",
     "collapsed": false,
     "input": [
      "spd=\"/Users/sr320/sqlshare-pythonclient/tools/\" \n",
      "!python {spd}singleupload.py -d Cgigas_HSarray_hypo_genes /Volumes/web/cnidarian/2014.06.04.hypomethylatedGenes.txt"
     ],
     "language": "python",
     "metadata": {},
     "outputs": [
      {
       "output_type": "stream",
       "stream": "stdout",
       "text": [
        "processing chunk line 0 to 465 (0.0248789787292 s elapsed)\r\n",
        "pushing /Volumes/web/cnidarian/2014.06.04.hypomethylatedGenes.txt...\r\n"
       ]
      },
      {
       "output_type": "stream",
       "stream": "stdout",
       "text": [
        "parsing 71B0D401...\r\n"
       ]
      },
      {
       "output_type": "stream",
       "stream": "stdout",
       "text": [
        "finished Cgigas_HSarray_hypo_genes\r\n"
       ]
      }
     ],
     "prompt_number": 18
    },
    {
     "cell_type": "code",
     "collapsed": false,
     "input": [
      "!python {spd}singleupload.py -d Cgigas_HSarray_hyper_genes /Volumes/web/cnidarian/2014.06.04.hypermethylatedGenes.txt"
     ],
     "language": "python",
     "metadata": {},
     "outputs": [
      {
       "output_type": "stream",
       "stream": "stdout",
       "text": [
        "processing chunk line 0 to 284 (0.0216600894928 s elapsed)\r\n",
        "pushing /Volumes/web/cnidarian/2014.06.04.hypermethylatedGenes.txt...\r\n"
       ]
      },
      {
       "output_type": "stream",
       "stream": "stdout",
       "text": [
        "parsing 19E43B96...\r\n"
       ]
      },
      {
       "output_type": "stream",
       "stream": "stdout",
       "text": [
        "finished Cgigas_HSarray_hyper_genes\r\n"
       ]
      }
     ],
     "prompt_number": 19
    },
    {
     "cell_type": "code",
     "collapsed": false,
     "input": [
      "!python {spd}fetchdata.py -s \"SELECT * FROM [sr320@washington.edu].[Cgigas_HSarray_hypo_genes]hypo left join [sr320@washington.edu].[qDOD Cgigas Gene Descriptions (Swiss-prot)]sp on hypo.Gene = sp.CGI_ID\" -f tsv -o /Volumes/web/cnidarian/HSarray_hypo_spjoin.txt"
     ],
     "language": "python",
     "metadata": {},
     "outputs": [],
     "prompt_number": 20
    },
    {
     "cell_type": "code",
     "collapsed": false,
     "input": [
      "!head /Volumes/web/cnidarian/HSarray_hypo_spjoin.txt"
     ],
     "language": "python",
     "metadata": {},
     "outputs": [
      {
       "output_type": "stream",
       "stream": "stdout",
       "text": [
        "Gene\tSigProbes\tScaffold\tStart\tEnd\tStrand\tCGI_ID\tSPID\tevalue\tDescription\r",
        "\r\n",
        "CGI_10003288\t3\tscaffold1485\t464\t19602\t1\tCGI_10003288\tA2AX52\t2E-23\tCollagen alpha-4(VI) chain\r",
        "\r\n",
        "CGI_10003316\t4\tscaffold1690\t9012\t65265\t-1\tCGI_10003316\tQ9Y2G3\t0\tProbable phospholipid-transporting ATPase IF\r",
        "\r\n",
        "CGI_10003361\t4\tscaffold734\t15567\t25465\t-1\tCGI_10003361\tP16157\t4E-47\tAnkyrin-1\r",
        "\r\n",
        "CGI_10003380\t3\tscaffold39470\t36603\t51823\t1\tCGI_10003380\tP51650\t2E-176\tSuccinate-semialdehyde dehydrogenase, mitochondrial\r",
        "\r\n",
        "CGI_10003390\t5\tscaffold39522\t1\t9704\t1\tCGI_10003390\tQ95KI5\t3E-43\tSolute carrier family 45 member 3\r",
        "\r\n",
        "CGI_10003410\t3\tscaffold39536\t40650\t70644\t-1\tCGI_10003410\tO15078\t0\tCentrosomal protein of 290 kDa\r",
        "\r\n",
        "CGI_10003565\t3\tscaffold1752\t8754\t19177\t-1\tCGI_10003565\tQ9GKL8\t4E-103\tCathepsin L1\r",
        "\r\n",
        "CGI_10003612\t6\tscaffold39778\t56712\t69685\t-1\tCGI_10003612\tQ96NG3\t1E-37\tTetratricopeptide repeat protein 25\r",
        "\r\n",
        "CGI_10003854\t3\tscaffold40106\t25562\t35769\t-1\tCGI_10003854\tQ5RC46\t1E-145\tAdenosine deaminase CECR1\r",
        "\r\n"
       ]
      }
     ],
     "prompt_number": 21
    },
    {
     "cell_type": "markdown",
     "metadata": {},
     "source": [
      "!cat /Volumes/web/cnidarian/HSarray_hypo_spjoin.txt"
     ]
    },
    {
     "cell_type": "code",
     "collapsed": false,
     "input": [
      "!python {spd}fetchdata.py -s \"SELECT * FROM [sr320@washington.edu].[Cgigas_HSarray_hyper_genes]hyper left join [sr320@washington.edu].[qDOD Cgigas Gene Descriptions (Swiss-prot)]sp on hyper.Gene = sp.CGI_ID\" -f tsv -o /Volumes/web/cnidarian/HSarray_hyper_spjoin.txt"
     ],
     "language": "python",
     "metadata": {},
     "outputs": [],
     "prompt_number": 23
    },
    {
     "cell_type": "markdown",
     "metadata": {},
     "source": [
      "!cat /Volumes/web/cnidarian/HSarray_hyper_spjoin.txt"
     ]
    },
    {
     "cell_type": "code",
     "collapsed": false,
     "input": [
      "!grep \"%homeo%\" /Volumes/web/cnidarian/HSarray_hyper_spjoin.txt"
     ],
     "language": "python",
     "metadata": {},
     "outputs": [],
     "prompt_number": 6
    },
    {
     "cell_type": "code",
     "collapsed": false,
     "input": [
      "!python {spd}fetchdata.py -s \"SELECT * FROM [sr320@washington.edu].[Cgigas_HSarray_hyper_genes]hyper left join [sr320@washington.edu].[qDOD Cgigas Gene Descriptions (Swiss-prot)]sp on hyper.Gene = sp.CGI_ID\" -o /Volumes/NGS\\ Drive/Google\\ Drive/fan/HSarray_hyper_spjoing.csv"
     ],
     "language": "python",
     "metadata": {},
     "outputs": [],
     "prompt_number": 26
    },
    {
     "cell_type": "heading",
     "level": 2,
     "metadata": {},
     "source": [
      "Enrichment Analysis"
     ]
    },
    {
     "cell_type": "markdown",
     "metadata": {},
     "source": [
      "!awk '{print $8}' /Volumes/web/cnidarian/HSarray_hyper_spjoin.txt"
     ]
    },
    {
     "cell_type": "markdown",
     "metadata": {},
     "source": [
      "!awk '{print $2}' /Volumes/web/cnidarian/qDOD\\ Cgigas\\ Gene\\ Descriptions\\ \\(Swiss-prot\\).txt"
     ]
    },
    {
     "cell_type": "heading",
     "level": 2,
     "metadata": {},
     "source": [
      "Hyper Methylation Enrichment"
     ]
    },
    {
     "cell_type": "markdown",
     "metadata": {},
     "source": [
      "<img src=\"http://eagle.fish.washington.edu/cnidarian/skitch/DAVID__Database_for_Annotation__Visualization__and_Integrated_Discovery__Laboratory_of_Immunopathogenesis_and_Bioinformatics__LIB___National_Institute_of_Allergies_and_Infectious_Diseases__NIAID___Science_Applications_International_Corporat_1958D206.png\" alt=\"DAVID__Database_for_Annotation__Visualization__and_Integrated_Discovery__Laboratory_of_Immunopathogenesis_and_Bioinformatics__LIB___National_Institute_of_Allergies_and_Infectious_Diseases__NIAID___Science_Applications_International_Corporat_1958D206.png\"/>"
     ]
    },
    {
     "cell_type": "code",
     "collapsed": false,
     "input": [
      "!head /Volumes/web/cnidarian/chart_24927B2DD5AB1403558513332.txt"
     ],
     "language": "python",
     "metadata": {},
     "outputs": [
      {
       "output_type": "stream",
       "stream": "stdout",
       "text": [
        "Category\tTerm\tCount\t%\tPValue\tGenes\tList Total\tPop Hits\tPop Total\tFold Enrichment\tBonferroni\tBenjamini\tFDR\r\n",
        "GOTERM_BP_FAT\tGO:0046578~regulation of Ras protein signal transduction\t10\t3.7593984962406015\t0.001388854016754309\tQ5F415, Q8N5T2, A2ASS6, Q92538, Q60992, Q15811, Q9NGC3, Q5SSL4, Q9I7U4, O01761\t192\t109\t7773\t3.7141628440366974\t0.8446940060582371\t0.8446940060582371\t2.251977818535955\r\n",
        "GOTERM_BP_FAT\tGO:0051056~regulation of small GTPase mediated signal transduction\t11\t4.135338345864661\t0.001390980083251564\tQ5F415, Q8N5T2, A2ASS6, Q92538, Q60992, Q15811, A5D794, Q9NGC3, Q5SSL4, Q9I7U4, O01761\t192\t131\t7773\t3.399451335877863\t0.8451364462399015\t0.6064729313502075\t2.2553883626445392\r\n",
        "GOTERM_BP_FAT\tGO:0035023~regulation of Rho protein signal transduction\t6\t2.2556390977443606\t0.0061818488104979875\tA2ASS6, Q60992, Q15811, Q5SSL4, Q9I7U4, O01761\t192\t48\t7773\t5.060546875\t0.9997538052428048\t0.9373252033702028\t9.663302429779142\r\n",
        "GOTERM_BP_FAT\tGO:0030239~myofibril assembly\t4\t1.5037593984962405\t0.009078460148983034\tA2ASS6, Q9I7U4, Q61879, O01761\t192\t18\t7773\t8.996527777777779\t0.9999950725722287\t0.9528854479086253\t13.88296187748307\r\n",
        "GOTERM_BP_FAT\tGO:0030036~actin cytoskeleton organization\t9\t3.3834586466165413\t0.011168715146417362\tP30551, O15259, A2ASS6, Q9Y2J2, Q9CXP4, Q9I7U4, Q8K4K5, Q61879, O01761\t192\t124\t7773\t2.9383820564516125\t0.9999997090986932\t0.9507110990337374\t16.812214471459853\r\n",
        "GOTERM_BP_FAT\tGO:0030029~actin filament-based process\t9\t3.3834586466165413\t0.012226751482884058\tP30551, O15259, A2ASS6, Q9Y2J2, Q9CXP4, Q9I7U4, Q8K4K5, Q61879, O01761\t192\t126\t7773\t2.891741071428571\t0.9999999307007384\t0.9359103202953811\t18.259014442790743\r\n",
        "GOTERM_BP_FAT\tGO:0006869~lipid transport\t7\t2.631578947368421\t0.012820543570131404\tP18163, Q7TMA5, Q865F1, P41233, Q0D2E8, Q9Y2Q0, P00507\t192\t79\t7773\t3.587223101265823\t0.999999969041066\t0.9154224418034262\t19.06060346275522\r\n",
        "GOTERM_BP_FAT\tGO:0031032~actomyosin structure organization\t4\t1.5037593984962405\t0.015945966298760147\tA2ASS6, Q9I7U4, Q61879, O01761\t192\t22\t7773\t7.360795454545454\t0.9999999995580354\t0.9322867848078762\t23.159503815228867\r\n",
        "GOTERM_BP_FAT\tGO:0010876~lipid localization\t7\t2.631578947368421\t0.01607014414630454\tP18163, Q7TMA5, Q865F1, P41233, Q0D2E8, Q9Y2Q0, P00507\t192\t83\t7773\t3.414344879518073\t0.9999999996267963\t0.910373086688026\t23.318261986659262\r\n"
       ]
      }
     ],
     "prompt_number": 35
    },
    {
     "cell_type": "heading",
     "level": 2,
     "metadata": {},
     "source": [
      "IGV Browser"
     ]
    },
    {
     "cell_type": "markdown",
     "metadata": {},
     "source": [
      "`http://eagle.fish.washington.edu/cnidarian/HS_array_igv_session1.xml`"
     ]
    },
    {
     "cell_type": "heading",
     "level": 3,
     "metadata": {},
     "source": [
      "HYPOmethylation (gt)"
     ]
    },
    {
     "cell_type": "markdown",
     "metadata": {},
     "source": [
      "<img src=\"http://eagle.fish.washington.edu/cnidarian/skitch/IGV_195B2846.png\" alt=\"IGV_195B2846.png\"/>"
     ]
    },
    {
     "cell_type": "markdown",
     "metadata": {},
     "source": [
      "<img src=\"http://eagle.fish.washington.edu/cnidarian/skitch/IGV_195B2941.png\" alt=\"IGV_195B2941.png\"/>"
     ]
    },
    {
     "cell_type": "heading",
     "level": 2,
     "metadata": {},
     "source": [
      "IGV Browser using Version 9 "
     ]
    },
    {
     "cell_type": "code",
     "collapsed": false,
     "input": [
      "#What is \n",
      "ID=\"CGI_10024087\"\n",
      "!grep {ID} /Volumes/web/cnidarian/C_gigas_Ensemble_ID_qf.tab"
     ],
     "language": "python",
     "metadata": {},
     "outputs": [
      {
       "output_type": "stream",
       "stream": "stdout",
       "text": [
        "CGI_10024087\tEKC32709\tEKC32709\tK1QNR4\tUniprot/SPTREMBL\tSEQUENCE_MATCH\t100\t100\t-\tCGI_10024087\tA1L2P5\t4E-36\tHomeobox protein Hox-D3\tA1L2P5\tGO:0003677\tGO:0003677\tDNA binding\tnucleic acid binding activity\tF\r",
        "\r\n",
        "CGI_10024087\tEKC32709\tEKC32709\tK1QNR4\tUniprot/SPTREMBL\tSEQUENCE_MATCH\t100\t100\t-\tCGI_10024087\tA1L2P5\t4E-36\tHomeobox protein Hox-D3\tA1L2P5\tGO:0003700\tGO:0003700\ttranscription factor activity\tnucleic acid binding activity\tF\r",
        "\r\n",
        "CGI_10024087\tEKC32709\tEKC32709\tK1QNR4\tUniprot/SPTREMBL\tSEQUENCE_MATCH\t100\t100\t-\tCGI_10024087\tA1L2P5\t4E-36\tHomeobox protein Hox-D3\tA1L2P5\tGO:0003700\tGO:0003700\ttranscription factor activity\ttranscription regulatory activity\tF\r",
        "\r\n",
        "CGI_10024087\tEKC32709\tEKC32709\tK1QNR4\tUniprot/SPTREMBL\tSEQUENCE_MATCH\t100\t100\t-\tCGI_10024087\tA1L2P5\t4E-36\tHomeobox protein Hox-D3\tA1L2P5\tGO:0005634\tGO:0005634\tnucleus\tnucleus\tC\r",
        "\r\n",
        "CGI_10024087\tEKC32709\tEKC32709\tK1QNR4\tUniprot/SPTREMBL\tSEQUENCE_MATCH\t100\t100\t-\tCGI_10024087\tA1L2P5\t4E-36\tHomeobox protein Hox-D3\tA1L2P5\tGO:0006351\tGO:0006351\t\"transcription, DNA-dependent\"\tRNA metabolism\tP\r",
        "\r\n",
        "CGI_10024087\tEKC32709\tEKC32709\tK1QNR4\tUniprot/SPTREMBL\tSEQUENCE_MATCH\t100\t100\t-\tCGI_10024087\tA1L2P5\t4E-36\tHomeobox protein Hox-D3\tA1L2P5\tGO:0006355\tGO:0006355\t\"regulation of transcription, DNA-dependent\"\tRNA metabolism\tP\r",
        "\r\n",
        "CGI_10024087\tEKC32709\tEKC32709\tK1QNR4\tUniprot/SPTREMBL\tSEQUENCE_MATCH\t100\t100\t-\tCGI_10024087\tA1L2P5\t4E-36\tHomeobox protein Hox-D3\tA1L2P5\tGO:0007275\tGO:0007275\tmulticellular organismal development\tdevelopmental processes\tP\r",
        "\r\n",
        "CGI_10024087\tEKC32709\tEKC32709\tK1QNR4\tUniprot/SPTREMBL\tSEQUENCE_MATCH\t100\t100\t-\tCGI_10024087\tA1L2P5\t4E-36\tHomeobox protein Hox-D3\tA1L2P5\tGO:0043565\tGO:0043565\tsequence-specific DNA binding\tnucleic acid binding activity\tF\r",
        "\r\n"
       ]
      }
     ],
     "prompt_number": 3
    },
    {
     "cell_type": "markdown",
     "metadata": {},
     "source": [
      "http://eagle.fish.washington.edu/cnidarian/HS_array_igv_session2.xml"
     ]
    },
    {
     "cell_type": "markdown",
     "metadata": {},
     "source": [
      "<img src=\"http://eagle.fish.washington.edu/cnidarian/skitch/IGV_-_Session___Volumes_web_cnidarian_HS_array_igv_session2_xml_195B7133.png\" alt=\"IGV_-_Session___Volumes_web_cnidarian_HS_array_igv_session2_xml_195B7133.png\"/>"
     ]
    },
    {
     "cell_type": "heading",
     "level": 2,
     "metadata": {},
     "source": [
      "IGV with Mantle RNA-seq"
     ]
    },
    {
     "cell_type": "markdown",
     "metadata": {},
     "source": [
      "<img src=\"http://eagle.fish.washington.edu/cnidarian/skitch/_38__Discovery_Environment_19645E4E.png\" alt=\"_38__Discovery_Environment_19645E4E.png\"/>"
     ]
    },
    {
     "cell_type": "code",
     "collapsed": true,
     "input": [
      "output /iplant/home/sr320/Cgigas_v9/Zhang/bgraph/"
     ],
     "language": "python",
     "metadata": {},
     "outputs": [
      {
       "ename": "SyntaxError",
       "evalue": "invalid syntax (<ipython-input-7-a76c5ab2a281>, line 1)",
       "output_type": "pyerr",
       "traceback": [
        "\u001b[0;36m  File \u001b[0;32m\"<ipython-input-7-a76c5ab2a281>\"\u001b[0;36m, line \u001b[0;32m1\u001b[0m\n\u001b[0;31m    output /iplant/home/sr320/Cgigas_v9/Zhang/bgraph/\u001b[0m\n\u001b[0m                                                     ^\u001b[0m\n\u001b[0;31mSyntaxError\u001b[0m\u001b[0;31m:\u001b[0m invalid syntax\n"
       ]
      }
     ],
     "prompt_number": 7
    },
    {
     "cell_type": "code",
     "collapsed": false,
     "input": [
      "\n",
      "bgdir=\"/iplant/home/sr320/Cgigas_v9/Zhang/bgraph\"\n",
      "!ils {bgdir}"
     ],
     "language": "python",
     "metadata": {},
     "outputs": [
      {
       "output_type": "stream",
       "stream": "stdout",
       "text": [
        "/iplant/home/sr320/Cgigas_v9/Zhang/bgraph:\r\n"
       ]
      },
      {
       "output_type": "stream",
       "stream": "stdout",
       "text": [
        "  C- /iplant/home/sr320/Cgigas_v9/Zhang/bgraph/RNAseq2bedgraph_E-2014-03-08-07-36-07.971\r\n",
        "  C- /iplant/home/sr320/Cgigas_v9/Zhang/bgraph/RNAseq2bedgraph_Fgo-2014-03-07-10-07-12.617\r\n",
        "  C- /iplant/home/sr320/Cgigas_v9/Zhang/bgraph/RNAseq2bedgraph_G3-2014-03-06-16-26-41.026\r\n",
        "  C- /iplant/home/sr320/Cgigas_v9/Zhang/bgraph/RNAseq2bedgraph_Man1-2014-07-02-08-36-42.069\r\n",
        "  C- /iplant/home/sr320/Cgigas_v9/Zhang/bgraph/RNAseq2bedgraph_Mgo1.3-2014-03-07-14-06-07.430\r\n",
        "  C- /iplant/home/sr320/Cgigas_v9/Zhang/bgraph/RNAseq2bedgraph_Mgo-2014-03-07-14-03-33.677\r\n"
       ]
      }
     ],
     "prompt_number": 28
    },
    {
     "cell_type": "code",
     "collapsed": false,
     "input": [
      "\n",
      "folder=\"RNAseq2bedgraph_Man1-2014-07-02-08-36-42.069\"\n",
      "id=\"Man1\""
     ],
     "language": "python",
     "metadata": {},
     "outputs": [],
     "prompt_number": 29
    },
    {
     "cell_type": "code",
     "collapsed": false,
     "input": [
      "cd /Volumes/web/cnidarian/\n"
     ],
     "language": "python",
     "metadata": {},
     "outputs": [
      {
       "output_type": "stream",
       "stream": "stdout",
       "text": [
        "/Volumes/web/cnidarian\n"
       ]
      }
     ],
     "prompt_number": 33
    },
    {
     "cell_type": "code",
     "collapsed": false,
     "input": [
      "!pwd"
     ],
     "language": "python",
     "metadata": {},
     "outputs": [
      {
       "output_type": "stream",
       "stream": "stdout",
       "text": [
        "/Volumes/web/cnidarian\r\n"
       ]
      }
     ],
     "prompt_number": 34
    },
    {
     "cell_type": "code",
     "collapsed": false,
     "input": [
      "!icd /iplant/home/sr320/Cgigas_v9/Zhang/bgraph/{folder}\n",
      "#!imv accepted_hits.bam z{id}_tophat.bam\n",
      "#!imv bedtools_genomecov_output z{id}_th_genomecov.bedgraph\n",
      "!iget -f z{id}_th_genomecov.bedgraph\n",
      "!iget -f z{id}_tophat.bam\n",
      "#!igvtools toTDF z{id}_th_genomecov.bedgraph z{id}_th_genomecov.bedgraph.tdf /Volumes/web/cnidarian/cgigas_v9_genome03.chrom.sizes\n",
      "#!iput z{id}_th_genomecov.bedgraph.tdf"
     ],
     "language": "python",
     "metadata": {},
     "outputs": [],
     "prompt_number": 40
    },
    {
     "cell_type": "markdown",
     "metadata": {},
     "source": [
      "!igvtools toTDF z{id}_th_genomecov.bedgraph z{id}_th_genomecov.bedgraph.tdf /Volumes/web/cnidarian/cgigas_v9_genome03.chrom.sizes\n",
      "!iput z{id}_th_genomecov.bedgraph.tdf"
     ]
    },
    {
     "cell_type": "code",
     "collapsed": false,
     "input": [
      "!samtools sort zMan1_tophat.bam sorted"
     ],
     "language": "python",
     "metadata": {},
     "outputs": [
      {
       "output_type": "stream",
       "stream": "stdout",
       "text": [
        "[bam_sort_core] merging from 16 files...\r\n"
       ]
      }
     ],
     "prompt_number": 50
    },
    {
     "cell_type": "heading",
     "level": 1,
     "metadata": {},
     "source": [
      "Spot Based Analysis"
     ]
    },
    {
     "cell_type": "markdown",
     "metadata": {},
     "source": [
      "Where are probes on genome?"
     ]
    },
    {
     "cell_type": "code",
     "collapsed": false,
     "input": [
      "!head /Volumes/web/bivalvia/array\\ design/OID40453_design_deliverables/OID40453_probe_locations.gff"
     ],
     "language": "python",
     "metadata": {},
     "outputs": [
      {
       "output_type": "stream",
       "stream": "stdout",
       "text": [
        "scaffold1\tNGS\tOID40453_probe_locations\t52347\t52396\t1\t.\t.\tcolor=000000\r\n",
        "scaffold1\tNGS\tOID40453_probe_locations\t52472\t52521\t1\t.\t.\tcolor=000000\r\n",
        "scaffold1\tNGS\tOID40453_probe_locations\t52597\t52649\t1\t.\t.\tcolor=000000\r\n",
        "scaffold1\tNGS\tOID40453_probe_locations\t52741\t52797\t1\t.\t.\tcolor=000000\r\n",
        "scaffold1\tNGS\tOID40453_probe_locations\t52851\t52915\t1\t.\t.\tcolor=000000\r\n",
        "scaffold1\tNGS\tOID40453_probe_locations\t52996\t53056\t1\t.\t.\tcolor=000000\r\n",
        "scaffold1\tNGS\tOID40453_probe_locations\t53101\t53152\t1\t.\t.\tcolor=000000\r\n",
        "scaffold1\tNGS\tOID40453_probe_locations\t53241\t53290\t2\t.\t.\tcolor=000000\r\n",
        "scaffold1\tNGS\tOID40453_probe_locations\t53351\t53405\t1\t.\t.\tcolor=000000\r\n",
        "scaffold1\tNGS\tOID40453_probe_locations\t53476\t53534\t1\t.\t.\tcolor=000000\r\n"
       ]
      }
     ],
     "prompt_number": 8
    },
    {
     "cell_type": "code",
     "collapsed": false,
     "input": [
      "!wc -l /Volumes/web/bivalvia/array\\ design/OID40453_design_deliverables/OID40453_probe_locations.gff"
     ],
     "language": "python",
     "metadata": {},
     "outputs": [
      {
       "output_type": "stream",
       "stream": "stdout",
       "text": [
        "  697752 /Volumes/web/bivalvia/array design/OID40453_design_deliverables/OID40453_probe_locations.gff\r\n"
       ]
      }
     ],
     "prompt_number": 24
    },
    {
     "cell_type": "code",
     "collapsed": false,
     "input": [
      "!intersectbed -c -a /Volumes/web/bivalvia/array\\ design/OID40453_design_deliverables/OID40453_probe_locations.gff -b /Volumes/web/trilobite/Crassostrea_gigas_v9_tracks/Cgigas_v9_gene.gff > /Volumes/web/cnidarian/HS_array_disc1.tab "
     ],
     "language": "python",
     "metadata": {},
     "outputs": [],
     "prompt_number": 20
    },
    {
     "cell_type": "code",
     "collapsed": false,
     "input": [
      "!head /Volumes/web/cnidarian/HS_array_disc1.tab "
     ],
     "language": "python",
     "metadata": {},
     "outputs": [
      {
       "output_type": "stream",
       "stream": "stdout",
       "text": [
        "scaffold1\tNGS\tOID40453_probe_locations\t52347\t52396\t1\t.\t.\tcolor=000000\t2\r\n",
        "scaffold1\tNGS\tOID40453_probe_locations\t52472\t52521\t1\t.\t.\tcolor=000000\t2\r\n",
        "scaffold1\tNGS\tOID40453_probe_locations\t52597\t52649\t1\t.\t.\tcolor=000000\t2\r\n",
        "scaffold1\tNGS\tOID40453_probe_locations\t52741\t52797\t1\t.\t.\tcolor=000000\t2\r\n",
        "scaffold1\tNGS\tOID40453_probe_locations\t52851\t52915\t1\t.\t.\tcolor=000000\t2\r\n",
        "scaffold1\tNGS\tOID40453_probe_locations\t52996\t53056\t1\t.\t.\tcolor=000000\t2\r\n",
        "scaffold1\tNGS\tOID40453_probe_locations\t53101\t53152\t1\t.\t.\tcolor=000000\t2\r\n",
        "scaffold1\tNGS\tOID40453_probe_locations\t53241\t53290\t2\t.\t.\tcolor=000000\t2\r\n",
        "scaffold1\tNGS\tOID40453_probe_locations\t53351\t53405\t1\t.\t.\tcolor=000000\t2\r\n",
        "scaffold1\tNGS\tOID40453_probe_locations\t53476\t53534\t1\t.\t.\tcolor=000000\t2\r\n"
       ]
      }
     ],
     "prompt_number": 25
    },
    {
     "cell_type": "code",
     "collapsed": false,
     "input": [
      "!cut -f10 /Volumes/web/cnidarian/HS_array_disc1.tab | sort | uniq -c\n",
      "\n"
     ],
     "language": "python",
     "metadata": {},
     "outputs": [
      {
       "output_type": "stream",
       "stream": "stdout",
       "text": [
        "77708 0\r\n"
       ]
      },
      {
       "output_type": "stream",
       "stream": "stdout",
       "text": [
        "594808 1\r\n",
        "25234 2\r\n",
        "   2 3\r\n"
       ]
      }
     ],
     "prompt_number": 27
    },
    {
     "cell_type": "heading",
     "level": 1,
     "metadata": {},
     "source": [
      "ncRNA"
     ]
    },
    {
     "cell_type": "code",
     "collapsed": false,
     "input": [
      "pwd"
     ],
     "language": "python",
     "metadata": {},
     "outputs": [
      {
       "metadata": {},
       "output_type": "pyout",
       "prompt_number": 42,
       "text": [
        "u'/Volumes/web/cnidarian'"
       ]
      }
     ],
     "prompt_number": 42
    },
    {
     "cell_type": "code",
     "collapsed": false,
     "input": [],
     "language": "python",
     "metadata": {},
     "outputs": [
      {
       "output_type": "stream",
       "stream": "stdout",
       "text": [
        "/bin/sh: -c: line 0: syntax error near unexpected token `<'\r\n",
        "/bin/sh: -c: line 0: `samtools sort </Volumes/web/cnidarian/zMan1_tophat.bam> </Volumes/web/cnidarian/zMan1_tophat.sorted.bam> '\r\n"
       ]
      }
     ],
     "prompt_number": 45
    },
    {
     "cell_type": "heading",
     "level": 1,
     "metadata": {},
     "source": [
      "Lets just go down the list"
     ]
    },
    {
     "cell_type": "code",
     "collapsed": false,
     "input": [
      "!cut -f 1 /Volumes/web/cnidarian/2014.06.20.lt1.8_gt3adjactentProbes.gff | sort | uniq -c"
     ],
     "language": "python",
     "metadata": {},
     "outputs": [
      {
       "output_type": "stream",
       "stream": "stdout",
       "text": [
        "   9 scaffold100\r\n",
        "   3 scaffold1016\r\n",
        "   4 scaffold1024\r\n",
        "   3 scaffold1037\r\n",
        "   3 scaffold1108\r\n",
        "   3 scaffold12\r\n",
        "   3 scaffold1210\r\n",
        "   7 scaffold1235\r\n",
        "   3 scaffold1237\r\n",
        "   5 scaffold1253\r\n",
        "   3 scaffold1307\r\n",
        "   3 scaffold1322\r\n",
        "   4 scaffold1366\r\n",
        "   7 scaffold1409\r\n",
        "   9 scaffold142\r\n",
        "  12 scaffold1518\r\n",
        "   6 scaffold1532\r\n",
        "   3 scaffold1605\r\n",
        "   6 scaffold1625\r\n",
        "   3 scaffold1627\r\n",
        "   3 scaffold1654\r\n",
        "   3 scaffold1656\r\n",
        "   3 scaffold1737\r\n",
        "   4 scaffold1817\r\n",
        "   4 scaffold1827\r\n",
        "   3 scaffold1835\r\n",
        "   4 scaffold189\r\n",
        "   4 scaffold1895\r\n",
        "   6 scaffold1901\r\n",
        "   8 scaffold200\r\n",
        "   3 scaffold219\r\n",
        "   3 scaffold22\r\n",
        "   3 scaffold241\r\n",
        "   4 scaffold242\r\n",
        "  15 scaffold247\r\n",
        "   3 scaffold248\r\n",
        "   7 scaffold258\r\n",
        "   6 scaffold274\r\n",
        "   3 scaffold370\r\n",
        "   3 scaffold386\r\n",
        "   3 scaffold393\r\n",
        "  12 scaffold394\r\n",
        "   3 scaffold39522\r\n",
        "   4 scaffold39778\r\n",
        "   5 scaffold406\r\n",
        "   5 scaffold41472\r\n",
        "   3 scaffold419\r\n",
        "   7 scaffold42144\r\n",
        "   3 scaffold42272\r\n",
        "   3 scaffold42448\r\n",
        "   4 scaffold42960\r\n",
        "   8 scaffold43116\r\n",
        "   3 scaffold43258\r\n",
        "   5 scaffold43798\r\n",
        "   8 scaffold44\r\n",
        "   3 scaffold44098\r\n",
        "  12 scaffold481\r\n",
        "   3 scaffold492\r\n",
        "   3 scaffold501\r\n",
        "   3 scaffold506\r\n",
        "   7 scaffold514\r\n",
        "   6 scaffold541\r\n",
        "   7 scaffold544\r\n",
        "   5 scaffold557\r\n",
        "   3 scaffold592\r\n",
        "   3 scaffold63\r\n",
        "   3 scaffold675\r\n",
        "   3 scaffold698\r\n",
        "   7 scaffold709\r\n",
        "   3 scaffold72\r\n",
        "   6 scaffold747\r\n",
        "   3 scaffold853\r\n",
        "   4 scaffold885\r\n",
        "  11 scaffold983\r\n"
       ]
      }
     ],
     "prompt_number": 51
    },
    {
     "cell_type": "markdown",
     "metadata": {},
     "source": [
      " 9 scaffold100\n",
      "   3 scaffold1016\n",
      "   4 scaffold1024\n",
      "   3 scaffold1037\n",
      "   3 scaffold1108\n",
      "   3 scaffold12\n",
      "   3 scaffold1210\n",
      "   7 scaffold1235\n",
      "   3 scaffold1237\n",
      "   5 scaffold1253\n",
      "   3 scaffold1307\n",
      "   3 scaffold1322\n",
      "   4 scaffold1366\n",
      "   7 scaffold1409\n",
      "   9 scaffold142\n",
      "  12 scaffold1518\n",
      "   6 scaffold1532\n",
      "   3 scaffold1605\n",
      "   6 scaffold1625\n",
      "   3 scaffold1627\n",
      "   3 scaffold1654\n",
      "   3 scaffold1656\n",
      "   3 scaffold1737\n",
      "   4 scaffold1817\n",
      "   4 scaffold1827\n",
      "   3 scaffold1835\n",
      "   4 scaffold189\n",
      "   4 scaffold1895\n",
      "   6 scaffold1901\n",
      "   8 scaffold200\n",
      "   3 scaffold219\n",
      "   3 scaffold22\n",
      "   3 scaffold241\n",
      "   4 scaffold242\n",
      "  15 scaffold247\n",
      "   3 scaffold248\n",
      "   7 scaffold258\n",
      "   6 scaffold274\n",
      "   3 scaffold370\n",
      "   3 scaffold386\n",
      "   3 scaffold393\n",
      "  12 scaffold394\n",
      "   3 scaffold39522\n",
      "   4 scaffold39778\n",
      "   5 scaffold406\n",
      "   5 scaffold41472\n",
      "   3 scaffold419\n",
      "   7 scaffold42144\n",
      "   3 scaffold42272\n",
      "   3 scaffold42448\n",
      "   4 scaffold42960\n",
      "   8 scaffold43116\n",
      "   3 scaffold43258\n",
      "   5 scaffold43798\n",
      "   8 scaffold44\n",
      "   3 scaffold44098\n",
      "  12 scaffold481\n",
      "   3 scaffold492\n",
      "   3 scaffold501\n",
      "   3 scaffold506\n",
      "   7 scaffold514\n",
      "   6 scaffold541\n",
      "   7 scaffold544\n",
      "   5 scaffold557\n",
      "   3 scaffold592\n",
      "   3 scaffold63\n",
      "   3 scaffold675\n",
      "   3 scaffold698\n",
      "   7 scaffold709\n",
      "   3 scaffold72\n",
      "   6 scaffold747\n",
      "   3 scaffold853\n",
      "   4 scaffold885\n",
      "  11 scaffold983"
     ]
    },
    {
     "cell_type": "markdown",
     "metadata": {},
     "source": [
      "scaffold 100\n",
      "<img src=\"http://eagle.fish.washington.edu/cnidarian/skitch/IGV_-_Session__http___eagle_fish_washington_edu_cnidarian_HS_array_igv_session2_xml_1965A01E.png\" alt=\"IGV_-_Session__http___eagle_fish_washington_edu_cnidarian_HS_array_igv_session2_xml_1965A01E.png\"/>"
     ]
    },
    {
     "cell_type": "markdown",
     "metadata": {},
     "source": [
      "scaff\n",
      "old1016 \n",
      "<img src=\"http://eagle.fish.washington.edu/cnidarian/skitch/IGV_-_Session__http___eagle_fish_washington_edu_cnidarian_HS_array_igv_session2_xml_1965A07D.png\" alt=\"IGV_-_Session__http___eagle_fish_washington_edu_cnidarian_HS_array_igv_session2_xml_1965A07D.png\"/>"
     ]
    },
    {
     "cell_type": "markdown",
     "metadata": {},
     "source": [
      "<img src=\"http://eagle.fish.washington.edu/cnidarian/skitch/IGV_-_Session__http___eagle_fish_washington_edu_cnidarian_HS_array_igv_session2_xml_1965A0C9.png\" alt=\"IGV_-_Session__http___eagle_fish_washington_edu_cnidarian_HS_array_igv_session2_xml_1965A0C9.png\"/>"
     ]
    },
    {
     "cell_type": "markdown",
     "metadata": {},
     "source": [
      "<img src=\"http://eagle.fish.washington.edu/cnidarian/skitch/IGV_-_Session__http___eagle_fish_washington_edu_cnidarian_HS_array_igv_session2_xml_1965A14F.png\" alt=\"IGV_-_Session__http___eagle_fish_washington_edu_cnidarian_HS_array_igv_session2_xml_1965A14F.png\"/>"
     ]
    },
    {
     "cell_type": "markdown",
     "metadata": {},
     "source": [
      "<img src=\"http://eagle.fish.washington.edu/cnidarian/skitch/IGV_-_Session__http___eagle_fish_washington_edu_cnidarian_HS_array_igv_session2_xml_1965A218.png\" alt=\"IGV_-_Session__http___eagle_fish_washington_edu_cnidarian_HS_array_igv_session2_xml_1965A218.png\"/>"
     ]
    },
    {
     "cell_type": "markdown",
     "metadata": {},
     "source": [
      "<img src=\"http://eagle.fish.washington.edu/cnidarian/skitch/IGV_-_Session__http___eagle_fish_washington_edu_cnidarian_HS_array_igv_session2_xml_1965A26B.png\" alt=\"IGV_-_Session__http___eagle_fish_washington_edu_cnidarian_HS_array_igv_session2_xml_1965A26B.png\"/>"
     ]
    },
    {
     "cell_type": "markdown",
     "metadata": {},
     "source": [
      "<img src=\"http://eagle.fish.washington.edu/cnidarian/skitch/IGV_-_Session__http___eagle_fish_washington_edu_cnidarian_HS_array_igv_session2_xml_1965A2B9.png\" alt=\"IGV_-_Session__http___eagle_fish_washington_edu_cnidarian_HS_array_igv_session2_xml_1965A2B9.png\"/>"
     ]
    },
    {
     "cell_type": "markdown",
     "metadata": {},
     "source": [
      "<img src=\"http://eagle.fish.washington.edu/cnidarian/skitch/IGV_-_Session__http___eagle_fish_washington_edu_cnidarian_HS_array_igv_session2_xml_1965A345.png\" alt=\"IGV_-_Session__http___eagle_fish_washington_edu_cnidarian_HS_array_igv_session2_xml_1965A345.png\"/>"
     ]
    },
    {
     "cell_type": "markdown",
     "metadata": {},
     "source": [
      "<img src=\"http://eagle.fish.washington.edu/cnidarian/skitch/IGV_-_Session__http___eagle_fish_washington_edu_cnidarian_HS_array_igv_session2_xml_1965A391.png\" alt=\"IGV_-_Session__http___eagle_fish_washington_edu_cnidarian_HS_array_igv_session2_xml_1965A391.png\"/>"
     ]
    },
    {
     "cell_type": "markdown",
     "metadata": {},
     "source": [
      "<img src=\"http://eagle.fish.washington.edu/cnidarian/skitch/IGV_-_Session__http___eagle_fish_washington_edu_cnidarian_HS_array_igv_session2_xml_1965A3F2.png\" alt=\"IGV_-_Session__http___eagle_fish_washington_edu_cnidarian_HS_array_igv_session2_xml_1965A3F2.png\"/>"
     ]
    },
    {
     "cell_type": "markdown",
     "metadata": {},
     "source": [
      "<img src=\"http://eagle.fish.washington.edu/cnidarian/skitch/IGV_-_Session__http___eagle_fish_washington_edu_cnidarian_HS_array_igv_session2_xml_and_Inbox__1__-_roberts_sbr_gmail_com_-_Gmail_1965A43C.png\" alt=\"IGV_-_Session__http___eagle_fish_washington_edu_cnidarian_HS_array_igv_session2_xml_and_Inbox__1__-_roberts_sbr_gmail_com_-_Gmail_1965A43C.png\"/>"
     ]
    },
    {
     "cell_type": "markdown",
     "metadata": {},
     "source": [
      "<img src=\"http://eagle.fish.washington.edu/cnidarian/skitch/IGV_-_Session__http___eagle_fish_washington_edu_cnidarian_HS_array_igv_session2_xml_1965A4AF.png\" alt=\"IGV_-_Session__http___eagle_fish_washington_edu_cnidarian_HS_array_igv_session2_xml_1965A4AF.png\"/>"
     ]
    },
    {
     "cell_type": "markdown",
     "metadata": {},
     "source": [
      "<img src=\"http://eagle.fish.washington.edu/cnidarian/skitch/IGV_-_Session__http___eagle_fish_washington_edu_cnidarian_HS_array_igv_session2_xml_1965A51D.png\" alt=\"IGV_-_Session__http___eagle_fish_washington_edu_cnidarian_HS_array_igv_session2_xml_1965A51D.png\"/>"
     ]
    },
    {
     "cell_type": "markdown",
     "metadata": {},
     "source": [
      "<img src=\"http://eagle.fish.washington.edu/cnidarian/skitch/Screenshot_7_3_14_7_51_AM_1965A55E.png\" alt=\"Screenshot_7_3_14_7_51_AM_1965A55E.png\"/>"
     ]
    },
    {
     "cell_type": "markdown",
     "metadata": {},
     "source": [
      "<img src=\"http://eagle.fish.washington.edu/cnidarian/skitch/IGV_-_Session__http___eagle_fish_washington_edu_cnidarian_HS_array_igv_session2_xml_1965A5A7.png\" alt=\"IGV_-_Session__http___eagle_fish_washington_edu_cnidarian_HS_array_igv_session2_xml_1965A5A7.png\"/>"
     ]
    },
    {
     "cell_type": "markdown",
     "metadata": {},
     "source": [
      "<img src=\"http://eagle.fish.washington.edu/cnidarian/skitch/IGV_-_Session__http___eagle_fish_washington_edu_cnidarian_HS_array_igv_session2_xml_1965A5EE.png\" alt=\"IGV_-_Session__http___eagle_fish_washington_edu_cnidarian_HS_array_igv_session2_xml_1965A5EE.png\"/>"
     ]
    },
    {
     "cell_type": "markdown",
     "metadata": {},
     "source": [
      "<img src=\"http://eagle.fish.washington.edu/cnidarian/skitch/IGV_-_Session__http___eagle_fish_washington_edu_cnidarian_HS_array_igv_session2_xml_1965A6AA.png\" alt=\"IGV_-_Session__http___eagle_fish_washington_edu_cnidarian_HS_array_igv_session2_xml_1965A6AA.png\"/>"
     ]
    },
    {
     "cell_type": "markdown",
     "metadata": {},
     "source": [
      "<img src=\"http://eagle.fish.washington.edu/cnidarian/skitch/IGV_-_Session__http___eagle_fish_washington_edu_cnidarian_HS_array_igv_session2_xml_1965A6F9.png\" alt=\"IGV_-_Session__http___eagle_fish_washington_edu_cnidarian_HS_array_igv_session2_xml_1965A6F9.png\"/>"
     ]
    },
    {
     "cell_type": "markdown",
     "metadata": {},
     "source": [
      "<img src=\"http://eagle.fish.washington.edu/cnidarian/skitch/IGV_-_Session__http___eagle_fish_washington_edu_cnidarian_HS_array_igv_session2_xml_1965A73A.png\" alt=\"IGV_-_Session__http___eagle_fish_washington_edu_cnidarian_HS_array_igv_session2_xml_1965A73A.png\"/>"
     ]
    },
    {
     "cell_type": "markdown",
     "metadata": {},
     "source": [
      "<img src=\"http://eagle.fish.washington.edu/cnidarian/skitch/IGV_-_Session__http___eagle_fish_washington_edu_cnidarian_HS_array_igv_session2_xml_1965A77C.png\" alt=\"IGV_-_Session__http___eagle_fish_washington_edu_cnidarian_HS_array_igv_session2_xml_1965A77C.png\"/>"
     ]
    },
    {
     "cell_type": "markdown",
     "metadata": {},
     "source": [
      "<img src=\"http://eagle.fish.washington.edu/cnidarian/skitch/IGV_-_Session__http___eagle_fish_washington_edu_cnidarian_HS_array_igv_session2_xml_1965A7D1.png\" alt=\"IGV_-_Session__http___eagle_fish_washington_edu_cnidarian_HS_array_igv_session2_xml_1965A7D1.png\"/>"
     ]
    },
    {
     "cell_type": "markdown",
     "metadata": {},
     "source": [
      "<img src=\"http://eagle.fish.washington.edu/cnidarian/skitch/IGV_-_Session__http___eagle_fish_washington_edu_cnidarian_HS_array_igv_session2_xml_1965A838.png\" alt=\"IGV_-_Session__http___eagle_fish_washington_edu_cnidarian_HS_array_igv_session2_xml_1965A838.png\"/>"
     ]
    },
    {
     "cell_type": "markdown",
     "metadata": {},
     "source": [
      "<img src=\"http://eagle.fish.washington.edu/cnidarian/skitch/IGV_-_Session__http___eagle_fish_washington_edu_cnidarian_HS_array_igv_session2_xml_1965A878.png\" alt=\"IGV_-_Session__http___eagle_fish_washington_edu_cnidarian_HS_array_igv_session2_xml_1965A878.png\"/>"
     ]
    },
    {
     "cell_type": "markdown",
     "metadata": {},
     "source": [
      "<img src=\"http://eagle.fish.washington.edu/cnidarian/skitch/IGV_-_Session__http___eagle_fish_washington_edu_cnidarian_HS_array_igv_session2_xml_1965A8DA.png\" alt=\"IGV_-_Session__http___eagle_fish_washington_edu_cnidarian_HS_array_igv_session2_xml_1965A8DA.png\"/>"
     ]
    },
    {
     "cell_type": "markdown",
     "metadata": {},
     "source": [
      "<img src=\"http://eagle.fish.washington.edu/cnidarian/skitch/IGV_-_Session__http___eagle_fish_washington_edu_cnidarian_HS_array_igv_session2_xml_1965A922.png\" alt=\"IGV_-_Session__http___eagle_fish_washington_edu_cnidarian_HS_array_igv_session2_xml_1965A922.png\"/>"
     ]
    },
    {
     "cell_type": "markdown",
     "metadata": {},
     "source": [
      "<img src=\"http://eagle.fish.washington.edu/cnidarian/skitch/IGV_-_Session__http___eagle_fish_washington_edu_cnidarian_HS_array_igv_session2_xml_1965A98B.png\" alt=\"IGV_-_Session__http___eagle_fish_washington_edu_cnidarian_HS_array_igv_session2_xml_1965A98B.png\"/>"
     ]
    },
    {
     "cell_type": "markdown",
     "metadata": {},
     "source": [
      "<img src=\"http://eagle.fish.washington.edu/cnidarian/skitch/IGV_-_Session__http___eagle_fish_washington_edu_cnidarian_HS_array_igv_session2_xml_1965A9F5.png\" alt=\"IGV_-_Session__http___eagle_fish_washington_edu_cnidarian_HS_array_igv_session2_xml_1965A9F5.png\"/>"
     ]
    },
    {
     "cell_type": "markdown",
     "metadata": {},
     "source": [
      "<img src=\"http://eagle.fish.washington.edu/cnidarian/skitch/IGV_-_Session__http___eagle_fish_washington_edu_cnidarian_HS_array_igv_session2_xml_1965AA9F.png\" alt=\"IGV_-_Session__http___eagle_fish_washington_edu_cnidarian_HS_array_igv_session2_xml_1965AA9F.png\"/>"
     ]
    },
    {
     "cell_type": "markdown",
     "metadata": {},
     "source": [
      "<img src=\"http://eagle.fish.washington.edu/cnidarian/skitch/IGV_-_Session__http___eagle_fish_washington_edu_cnidarian_HS_array_igv_session2_xml_1965AB13.png\" alt=\"IGV_-_Session__http___eagle_fish_washington_edu_cnidarian_HS_array_igv_session2_xml_1965AB13.png\"/>"
     ]
    },
    {
     "cell_type": "markdown",
     "metadata": {},
     "source": [
      "<img src=\"http://eagle.fish.washington.edu/cnidarian/skitch/IGV_-_Session__http___eagle_fish_washington_edu_cnidarian_HS_array_igv_session2_xml_1965AB7F.png\" alt=\"IGV_-_Session__http___eagle_fish_washington_edu_cnidarian_HS_array_igv_session2_xml_1965AB7F.png\"/>"
     ]
    },
    {
     "cell_type": "markdown",
     "metadata": {},
     "source": [
      "<img src=\"http://eagle.fish.washington.edu/cnidarian/skitch/IGV_-_Session__http___eagle_fish_washington_edu_cnidarian_HS_array_igv_session2_xml_1965ABB3.png\" alt=\"IGV_-_Session__http___eagle_fish_washington_edu_cnidarian_HS_array_igv_session2_xml_1965ABB3.png\"/>"
     ]
    },
    {
     "cell_type": "markdown",
     "metadata": {},
     "source": [
      "<img src=\"http://eagle.fish.washington.edu/cnidarian/skitch/Screenshot_7_3_14_8_19_AM_1965AC0E.png\" alt=\"Screenshot_7_3_14_8_19_AM_1965AC0E.png\"/>"
     ]
    },
    {
     "cell_type": "markdown",
     "metadata": {},
     "source": [
      "<img src=\"http://eagle.fish.washington.edu/cnidarian/skitch/IGV_-_Session__http___eagle_fish_washington_edu_cnidarian_HS_array_igv_session2_xml_1965AC6E.png\" alt=\"IGV_-_Session__http___eagle_fish_washington_edu_cnidarian_HS_array_igv_session2_xml_1965AC6E.png\"/>"
     ]
    },
    {
     "cell_type": "markdown",
     "metadata": {},
     "source": [
      "<img src=\"http://eagle.fish.washington.edu/cnidarian/skitch/IGV_-_Session__http___eagle_fish_washington_edu_cnidarian_HS_array_igv_session2_xml_1965ACD4.png\" alt=\"IGV_-_Session__http___eagle_fish_washington_edu_cnidarian_HS_array_igv_session2_xml_1965ACD4.png\"/>"
     ]
    },
    {
     "cell_type": "markdown",
     "metadata": {},
     "source": [
      "<img src=\"http://eagle.fish.washington.edu/cnidarian/skitch/IGV_-_Session__http___eagle_fish_washington_edu_cnidarian_HS_array_igv_session2_xml_1965AD69.png\" alt=\"IGV_-_Session__http___eagle_fish_washington_edu_cnidarian_HS_array_igv_session2_xml_1965AD69.png\"/>"
     ]
    },
    {
     "cell_type": "markdown",
     "metadata": {},
     "source": [
      "<img src=\"http://eagle.fish.washington.edu/cnidarian/skitch/IGV_-_Session__http___eagle_fish_washington_edu_cnidarian_HS_array_igv_session2_xml_1965AD9B.png\" alt=\"IGV_-_Session__http___eagle_fish_washington_edu_cnidarian_HS_array_igv_session2_xml_1965AD9B.png\"/>"
     ]
    },
    {
     "cell_type": "markdown",
     "metadata": {},
     "source": [
      "<img src=\"http://eagle.fish.washington.edu/cnidarian/skitch/IGV_-_Session__http___eagle_fish_washington_edu_cnidarian_HS_array_igv_session2_xml_1965AE20.png\" alt=\"IGV_-_Session__http___eagle_fish_washington_edu_cnidarian_HS_array_igv_session2_xml_1965AE20.png\"/>"
     ]
    },
    {
     "cell_type": "markdown",
     "metadata": {},
     "source": [
      "<img src=\"http://eagle.fish.washington.edu/cnidarian/skitch/IGV_-_Session__http___eagle_fish_washington_edu_cnidarian_HS_array_igv_session2_xml_1965AE5E.png\" alt=\"IGV_-_Session__http___eagle_fish_washington_edu_cnidarian_HS_array_igv_session2_xml_1965AE5E.png\"/>"
     ]
    },
    {
     "cell_type": "markdown",
     "metadata": {},
     "source": [
      "<img src=\"http://eagle.fish.washington.edu/cnidarian/skitch/IGV_-_Session__http___eagle_fish_washington_edu_cnidarian_HS_array_igv_session2_xml_1965AEB8.png\" alt=\"IGV_-_Session__http___eagle_fish_washington_edu_cnidarian_HS_array_igv_session2_xml_1965AEB8.png\"/>"
     ]
    },
    {
     "cell_type": "markdown",
     "metadata": {},
     "source": [
      "<img src=\"http://eagle.fish.washington.edu/cnidarian/skitch/IGV_-_Session__http___eagle_fish_washington_edu_cnidarian_HS_array_igv_session2_xml_1965AEF4.png\" alt=\"IGV_-_Session__http___eagle_fish_washington_edu_cnidarian_HS_array_igv_session2_xml_1965AEF4.png\"/>"
     ]
    },
    {
     "cell_type": "markdown",
     "metadata": {},
     "source": [
      "<img src=\"http://eagle.fish.washington.edu/cnidarian/skitch/IGV_-_Session__http___eagle_fish_washington_edu_cnidarian_HS_array_igv_session2_xml_1965AF4E.png\" alt=\"IGV_-_Session__http___eagle_fish_washington_edu_cnidarian_HS_array_igv_session2_xml_1965AF4E.png\"/>"
     ]
    },
    {
     "cell_type": "markdown",
     "metadata": {},
     "source": [
      "<img src=\"http://eagle.fish.washington.edu/cnidarian/skitch/IGV_-_Session__http___eagle_fish_washington_edu_cnidarian_HS_array_igv_session2_xml_1965AFA6.png\" alt=\"IGV_-_Session__http___eagle_fish_washington_edu_cnidarian_HS_array_igv_session2_xml_1965AFA6.png\"/>"
     ]
    },
    {
     "cell_type": "markdown",
     "metadata": {},
     "source": [
      "<img src=\"http://eagle.fish.washington.edu/cnidarian/skitch/Screenshot_7_3_14_8_36_AM_1965B00B.png\" alt=\"Screenshot_7_3_14_8_36_AM_1965B00B.png\"/>"
     ]
    },
    {
     "cell_type": "code",
     "collapsed": false,
     "input": [],
     "language": "python",
     "metadata": {},
     "outputs": []
    }
   ],
   "metadata": {}
  }
 ]
}