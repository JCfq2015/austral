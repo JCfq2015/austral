{
 "metadata": {
  "name": "",
  "signature": "sha256:b034f19d8aaddc11c203f0ea75d072827f2cf794b9b166baa985bca09c692cf4"
 },
 "nbformat": 3,
 "nbformat_minor": 0,
 "worksheets": [
  {
   "cells": [
    {
     "cell_type": "markdown",
     "metadata": {},
     "source": [
      "http://eagle.fish.washington.edu/cnidarian/HS_array_igv_session3.xml"
     ]
    },
    {
     "cell_type": "code",
     "collapsed": false,
     "input": [],
     "language": "python",
     "metadata": {},
     "outputs": []
    }
   ],
   "metadata": {}
  }
 ]
}