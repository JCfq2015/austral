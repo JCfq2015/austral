{
 "metadata": {
  "name": "",
  "signature": "sha256:67945f83ac1295c1d9b7be6b04ba9840f054ec3b596efe464b9bd658a3420bc3"
 },
 "nbformat": 3,
 "nbformat_minor": 0,
 "worksheets": [
  {
   "cells": [
    {
     "cell_type": "heading",
     "level": 1,
     "metadata": {},
     "source": [
      "Crassostrea gigas RNA-seq"
     ]
    },
    {
     "cell_type": "markdown",
     "metadata": {},
     "source": [
      "##Objectives"
     ]
    },
    {
     "cell_type": "markdown",
     "metadata": {},
     "source": [
      "* Use RNA-seq to compare expression between oysters (n=3) pre and post heat shock."
     ]
    },
    {
     "cell_type": "markdown",
     "metadata": {},
     "source": [
      ">Based on IPlant Collaborative Tutorial      \n",
      "[<img src=\"http://eagle.fish.washington.edu/cnidarian/skitch/RNA-Seq_tutorial_-_Education__Outreach__and_Training_-_iPlant_Collaborative_Wiki_1A45D493.png\" alt=\"RNA-Seq_tutorial_-_Education__Outreach__and_Training_-_iPlant_Collaborative_Wiki\"/>](https://pods.iplantcollaborative.org/wiki/display/eot/RNA-Seq_tutorial)\n",
      "<https://pods.iplantcollaborative.org/wiki/display/eot/RNA-Seq_tutorial>"
     ]
    },
    {
     "cell_type": "markdown",
     "metadata": {},
     "source": [
      "Tophat is a specialized alignment software for RNA-seq reads that is aware of splice junctions when aligning to a reference assembly.\n",
      "\n",
      "1) Click Apps from DE workspace and select **TopHat2-SE**. Use search bar.\n",
      "\n",
      "<img src=\"http://eagle.fish.washington.edu/cnidarian/skitch/_18__Discovery_Environment_1A446EF5.png\" alt=\"_18__Discovery_Environment_1A446EF5.png\"/>\n",
      "\n",
      "\n",
      "2) Under 'Analysis Name' leave as defaults for make any changes.\n",
      "\n",
      "3) Under **Input data** for FASTQ files add six fastq.gz files localed in `austral-data` with prefixes _2M, 2M-HS, 4M, 4M-HS, 6M, 6M-HS_. \n",
      "\n",
      "4) Under **Reference Genome** for 'Provide a reference genome file in FASTA format' select `/austral-data/Crassostrea_gigas.GCA_000297895.1.24.dna_sm.toplevel.fa` \n",
      "\n",
      "5) For **Reference Annoations** add the GTF file `/austral-data/Crassostrea_gigas.GCA_000297895.1.24.gtf`\n",
      "\n",
      "6) Click **Launch Analyses** and monitor the status of you job.\n",
      "\n",
      "7) Once complete....\n",
      "\n",
      "- Note this takes ~10 hours "
     ]
    },
    {
     "cell_type": "code",
     "collapsed": false,
     "input": [],
     "language": "python",
     "metadata": {},
     "outputs": []
    }
   ],
   "metadata": {}
  }
 ]
}