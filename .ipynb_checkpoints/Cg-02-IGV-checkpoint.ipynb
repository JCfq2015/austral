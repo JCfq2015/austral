{
 "metadata": {
  "name": "",
  "signature": "sha256:d88f24bf6f2046fe0345a38b78bfc92d514bdd2f6079596aa2c73f74c06ae499"
 },
 "nbformat": 3,
 "nbformat_minor": 0,
 "worksheets": [
  {
   "cells": [
    {
     "cell_type": "heading",
     "level": 1,
     "metadata": {},
     "source": [
      "Integrative Genomics Viewer"
     ]
    },
    {
     "cell_type": "markdown",
     "metadata": {},
     "source": [
      "http://www.broadinstitute.org/igv/"
     ]
    },
    {
     "cell_type": "markdown",
     "metadata": {},
     "source": [
      "![empty](http://eagle.fish.washington.edu/cnidarian/skitch/IGV_1A49FA51.png)"
     ]
    },
    {
     "cell_type": "code",
     "collapsed": false,
     "input": [],
     "language": "python",
     "metadata": {},
     "outputs": []
    },
    {
     "cell_type": "heading",
     "level": 3,
     "metadata": {},
     "source": [
      "Load Genome from url"
     ]
    },
    {
     "cell_type": "markdown",
     "metadata": {},
     "source": [
      "http://eagle.fish.washington.edu/trilobite/Crassostrea_gigas_ensembl_tracks/Crassostrea_gigas.GCA_000297895.1.24.dna_sm.genome.fa"
     ]
    },
    {
     "cell_type": "code",
     "collapsed": false,
     "input": [
      "http://eagle.fish.washington.edu/trilobite/Crassostrea_gigas_ensembl_tracks/Crassostrea_gigas.GCA_000297895.1.24.gtf"
     ],
     "language": "python",
     "metadata": {},
     "outputs": []
    },
    {
     "cell_type": "code",
     "collapsed": false,
     "input": [
      "http://eagle.fish.washington.edu/trilobite/Crassostrea_gigas_ensembl_tracks/Crassostrea_gigas.GCA_000297895.1.24.gff3"
     ],
     "language": "python",
     "metadata": {},
     "outputs": []
    },
    {
     "cell_type": "code",
     "collapsed": false,
     "input": [
      "https://newland.iplantcollaborative.org/iplant/home/sr320/BS-heat/TopHat2-SE_analysis_heat-b-2014-12-19-15-09-00.4/bam/2M_AGTCAA_L001_R1_001.bam"
     ],
     "language": "python",
     "metadata": {},
     "outputs": []
    },
    {
     "cell_type": "code",
     "collapsed": false,
     "input": [
      "https://newland.iplantcollaborative.org/iplant/home/sr320/BS-heat/TopHat2-SE_analysis_heat-b-2014-12-19-15-09-00.4/bam/2M-HS_CCGTCC_L001_R1_001.bam"
     ],
     "language": "python",
     "metadata": {},
     "outputs": []
    },
    {
     "cell_type": "code",
     "collapsed": false,
     "input": [
      "https://newland.iplantcollaborative.org/iplant/home/sr320/BS-heat/TopHat2-SE_analysis_heat-b-2014-12-19-15-09-00.4/bam/4M_AGTTCC_L001_R1_001.bam"
     ],
     "language": "python",
     "metadata": {},
     "outputs": []
    },
    {
     "cell_type": "code",
     "collapsed": false,
     "input": [],
     "language": "python",
     "metadata": {},
     "outputs": []
    },
    {
     "cell_type": "code",
     "collapsed": false,
     "input": [],
     "language": "python",
     "metadata": {},
     "outputs": []
    },
    {
     "cell_type": "code",
     "collapsed": false,
     "input": [
      "https://newland.iplantcollaborative.org/iplant/home/sr320/BS-heat/Cuffmerge2_heat-2014-12-20-19-14-34.8/cuffmerge_out/merged_with_ref_ids.gtf"
     ],
     "language": "python",
     "metadata": {},
     "outputs": []
    },
    {
     "cell_type": "code",
     "collapsed": false,
     "input": [],
     "language": "python",
     "metadata": {},
     "outputs": []
    },
    {
     "cell_type": "code",
     "collapsed": false,
     "input": [],
     "language": "python",
     "metadata": {},
     "outputs": []
    },
    {
     "cell_type": "code",
     "collapsed": false,
     "input": [],
     "language": "python",
     "metadata": {},
     "outputs": []
    },
    {
     "cell_type": "code",
     "collapsed": false,
     "input": [
      "https://newland.iplantcollaborative.org/iplant/home/sr320/BS-heat/Cufflinks2_analysis_heat-2014-12-20-15-57-48.9/gtf/2M_AGTCAA_L001_R1_001_transcripts.gtf"
     ],
     "language": "python",
     "metadata": {},
     "outputs": []
    }
   ],
   "metadata": {}
  }
 ]
}