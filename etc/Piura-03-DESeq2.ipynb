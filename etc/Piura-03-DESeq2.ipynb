{
 "metadata": {
  "name": "",
  "signature": "sha256:204feeea0f1e901ea0e51495f1844a544ee2aa08ff0768ff01a42017ae8c95de"
 },
 "nbformat": 3,
 "nbformat_minor": 0,
 "worksheets": [
  {
   "cells": [
    {
     "cell_type": "code",
     "collapsed": false,
     "input": [
      "!head -2 /Volumes/web/cnidarian/Val_Coq_clc_rnaseq.csv"
     ],
     "language": "python",
     "metadata": {},
     "outputs": [
      {
       "output_type": "stream",
       "stream": "stdout",
       "text": [
        "\"Feature ID\",\"Experiment - Range (original values)\",\"Experiment - IQR (original values)\",\"Experiment - Difference (original values)\",\"Experiment - Fold Change (original values)\",\"Val - PiuraChilensis_Valdivia_trimmer_out (GE) - Expression values\",\"Val - PiuraChilensis_Valdivia_trimmer_out (GE) - Unique gene reads\",\"Val - PiuraChilensis_Valdivia_trimmer_out (GE) - Total gene reads\",\"Val - PiuraChilensis_Valdivia_trimmer_out (GE) - RPKM\",\"Val - PiuraChilensis_Valdivia_trimmer_out (GE) - Chromosome\",\"Val - PiuraChilensis_Valdivia_trimmer_out (GE) - Chromosome region start\",\"Val - PiuraChilensis_Valdivia_trimmer_out (GE) - Chromosome region end\",\"Val - Means\",\"Coq - PiuraChilensis_Coquimbo_trimmer_out (GE) - Expression values\",\"Coq - PiuraChilensis_Coquimbo_trimmer_out (GE) - Unique gene reads\",\"Coq - PiuraChilensis_Coquimbo_trimmer_out (GE) - Total gene reads\",\"Coq - PiuraChilensis_Coquimbo_trimmer_out (GE) - RPKM\",\"Coq - PiuraChilensis_Coquimbo_trimmer_out (GE) - Chromosome\",\"Coq - PiuraChilensis_Coquimbo_trimmer_out (GE) - Chromosome region start\",\"Coq - PiuraChilensis_Coquimbo_trimmer_out (GE) - Chromosome region end\",\"Coq - Means\"\r\n",
        "\"PiuraChilensis_Coquimbo_trimmer_out contig 1\",\"6\",\"6\",\"6\",\"1.857\",\"7\",\"7\",\"7\",\"0\",\"PiuraChilensis_Coquimbo_trimmer_out contig 1\",\"0\",\"1168\",\"7\",\"13\",\"13\",\"13\",\"0\",\"PiuraChilensis_Coquimbo_trimmer_out contig 1\",\"0\",\"1168\",\"13\"\r\n"
       ]
      }
     ],
     "prompt_number": 1
    },
    {
     "cell_type": "code",
     "collapsed": false,
     "input": [
      "!awk -F \"\\\"*,\\\"*\" '{print $1,\"\\t\",$8,\"\\t\",$16}' /Volumes/web/cnidarian/Val_Coq_clc_rnaseq.csv | \\\n",
      "sed 's/\"PiuraChilensis_Coquimbo_trimmer_out contig /PiuraChilensis_v1_contig_/g' | \\\n",
      "sed 's/\"Feature ID/Feature/g' | sed 's/Val - PiuraChilensis_Valdivia_trimmer_out (GE) - Total gene reads/Val_totalreads/g' | \\\n",
      "sed 's/Coq - PiuraChilensis_Coquimbo_trimmer_out (GE) - Total gene reads/Coq_totalreads/g' > ./data/Piura_counts.txt"
     ],
     "language": "python",
     "metadata": {},
     "outputs": [],
     "prompt_number": 34
    },
    {
     "cell_type": "code",
     "collapsed": false,
     "input": [
      "!head ./data/Piura_counts.txt"
     ],
     "language": "python",
     "metadata": {},
     "outputs": [
      {
       "output_type": "stream",
       "stream": "stdout",
       "text": [
        "Feature \t Val_totalreads \t Coq_totalreads\r\n",
        "PiuraChilensis_v1_contig_1 \t 7 \t 13\r\n",
        "PiuraChilensis_v1_contig_10 \t 109 \t 136\r\n",
        "PiuraChilensis_v1_contig_100 \t 38 \t 24\r\n",
        "PiuraChilensis_v1_contig_1000 \t 97 \t 63\r\n",
        "PiuraChilensis_v1_contig_10000 \t 19 \t 15\r\n",
        "PiuraChilensis_v1_contig_10001 \t 5 \t 5\r\n",
        "PiuraChilensis_v1_contig_10002 \t 2 \t 4\r\n",
        "PiuraChilensis_v1_contig_10003 \t 3 \t 6\r\n",
        "PiuraChilensis_v1_contig_10004 \t 2 \t 5\r\n"
       ]
      }
     ],
     "prompt_number": 35
    },
    {
     "cell_type": "code",
     "collapsed": false,
     "input": [
      "%load_ext rpy2.ipython\n"
     ],
     "language": "python",
     "metadata": {},
     "outputs": [],
     "prompt_number": 27
    },
    {
     "cell_type": "code",
     "collapsed": false,
     "input": [
      "%%R\n",
      "library(DESeq2)"
     ],
     "language": "python",
     "metadata": {},
     "outputs": [
      {
       "metadata": {},
       "output_type": "display_data",
       "text": [
        "Loading required package: GenomicRanges\n",
        "Loading required package: BiocGenerics\n",
        "Loading required package: parallel\n",
        "\n",
        "Attaching package: \u2018BiocGenerics\u2019\n",
        "\n",
        "The following objects are masked from \u2018package:parallel\u2019:\n",
        "\n",
        "    clusterApply, clusterApplyLB, clusterCall, clusterEvalQ,\n",
        "    clusterExport, clusterMap, parApply, parCapply, parLapply,\n",
        "    parLapplyLB, parRapply, parSapply, parSapplyLB\n",
        "\n",
        "The following object is masked from \u2018package:stats\u2019:\n",
        "\n",
        "    xtabs\n",
        "\n",
        "The following objects are masked from \u2018package:base\u2019:\n",
        "\n",
        "    anyDuplicated, append, as.data.frame, as.vector, cbind, colnames,\n",
        "    do.call, duplicated, eval, evalq, Filter, Find, get, intersect,\n",
        "    is.unsorted, lapply, Map, mapply, match, mget, order, paste, pmax,\n",
        "    pmax.int, pmin, pmin.int, Position, rank, rbind, Reduce, rep.int,\n",
        "    rownames, sapply, setdiff, sort, table, tapply, union, unique,\n",
        "    unlist\n",
        "\n",
        "Loading required package: IRanges\n",
        "Loading required package: GenomeInfoDb\n",
        "Loading required package: Rcpp\n",
        "Loading required package: RcppArmadillo\n"
       ]
      }
     ],
     "prompt_number": 28
    },
    {
     "cell_type": "code",
     "collapsed": false,
     "input": [
      "%%R\n",
      "data <- read.table(\"./data/Piura_counts.txt\", header = T, sep = \"\\t\")\n",
      "rownames(data) <- data$Feature\n",
      "data <- data[,-1]"
     ],
     "language": "python",
     "metadata": {},
     "outputs": [],
     "prompt_number": 36
    },
    {
     "cell_type": "code",
     "collapsed": false,
     "input": [
      "%%R\n",
      "# Build Objects\n",
      "# Specify which columns are in which groups\n",
      "deseq2.colData <- data.frame(condition=factor(c(rep(\"Val\", 1), rep(\"Coq\", 1))), \n",
      "                             type=factor(rep(\"single-read\", 2)))\n",
      "rownames(deseq2.colData) <- colnames(data)\n",
      "deseq2.dds <- DESeqDataSetFromMatrix(countData = data,\n",
      "                                     colData = deseq2.colData, \n",
      "                                     design = ~ condition)"
     ],
     "language": "python",
     "metadata": {},
     "outputs": [],
     "prompt_number": 37
    },
    {
     "cell_type": "code",
     "collapsed": false,
     "input": [
      "%%R\n",
      "# Run Analysis\n",
      "deseq2.dds <- DESeq(deseq2.dds)\n",
      "deseq2.res <- results(deseq2.dds)\n",
      "deseq2.res <- deseq2.res[order(rownames(deseq2.res)), ]"
     ],
     "language": "python",
     "metadata": {},
     "outputs": [
      {
       "metadata": {},
       "output_type": "display_data",
       "text": [
        "estimating size factors\n",
        "estimating dispersions\n",
        "same number of samples and coefficients to fit, estimating dispersion by treating samples as replicates\n",
        "gene-wise dispersion estimates\n",
        "mean-dispersion relationship\n",
        "final dispersion estimates\n",
        "fitting model and testing\n"
       ]
      }
     ],
     "prompt_number": 38
    },
    {
     "cell_type": "code",
     "collapsed": false,
     "input": [
      "%%R\n",
      "head(deseq2.res)\n",
      " "
     ],
     "language": "python",
     "metadata": {},
     "outputs": [
      {
       "metadata": {},
       "output_type": "display_data",
       "text": [
        "log2 fold change (MAP): condition Val vs Coq \n",
        "Wald test p-value: condition Val vs Coq \n",
        "DataFrame with 6 rows and 6 columns\n",
        "                                 baseMean log2FoldChange     lfcSE\n",
        "                                <numeric>      <numeric> <numeric>\n",
        "PiuraChilensis_v1_contig_1           10.0  -4.101436e-01 0.9299015\n",
        "PiuraChilensis_v1_contig_10         122.5  -2.690271e-01 0.6791854\n",
        "PiuraChilensis_v1_contig_100         31.0   4.563172e-01 0.8634770\n",
        "PiuraChilensis_v1_contig_1000        80.0   5.013227e-01 0.7384981\n",
        "PiuraChilensis_v1_contig_10000       17.0   1.984712e-01 0.9198724\n",
        "PiuraChilensis_v1_contig_10001        5.0   2.461013e-16 0.8694123\n",
        "                                         stat    pvalue      padj\n",
        "                                    <numeric> <numeric> <numeric>\n",
        "PiuraChilensis_v1_contig_1      -4.410613e-01 0.6591686         1\n",
        "PiuraChilensis_v1_contig_10     -3.961025e-01 0.6920294         1\n",
        "PiuraChilensis_v1_contig_100     5.284648e-01 0.5971768         1\n",
        "PiuraChilensis_v1_contig_1000    6.788410e-01 0.4972386         1\n",
        "PiuraChilensis_v1_contig_10000   2.157594e-01 0.8291753         1\n",
        "PiuraChilensis_v1_contig_10001   2.830662e-16 1.0000000         1\n"
       ]
      }
     ],
     "prompt_number": 39
    },
    {
     "cell_type": "code",
     "collapsed": false,
     "input": [
      "%%R\n",
      "# Count number of hits with adjusted p-value less then 0.05\n",
      "dim(deseq2.res[!is.na(deseq2.res$padj) & deseq2.res$padj <= 0.05, ])"
     ],
     "language": "python",
     "metadata": {},
     "outputs": [
      {
       "metadata": {},
       "output_type": "display_data",
       "text": [
        "[1] 0 6\n"
       ]
      }
     ],
     "prompt_number": 42
    },
    {
     "cell_type": "heading",
     "level": 1,
     "metadata": {},
     "source": [
      "No Difference in Expresssion Level"
     ]
    },
    {
     "cell_type": "code",
     "collapsed": false,
     "input": [],
     "language": "python",
     "metadata": {},
     "outputs": []
    }
   ],
   "metadata": {}
  }
 ]
}