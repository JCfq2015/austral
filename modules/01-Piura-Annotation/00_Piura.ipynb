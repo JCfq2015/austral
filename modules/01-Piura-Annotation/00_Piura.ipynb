{
 "metadata": {
  "name": "",
  "signature": "sha256:293537c95a9c3321e2c514ae32b98cbb52a2aeb2ce03daa6020a30ffde13863d"
 },
 "nbformat": 3,
 "nbformat_minor": 0,
 "worksheets": [
  {
   "cells": [
    {
     "cell_type": "heading",
     "level": 1,
     "metadata": {},
     "source": [
      "Pyura (Piura) chilensis Transcriptome "
     ]
    },
    {
     "cell_type": "markdown",
     "metadata": {},
     "source": [
      "##Objectives"
     ]
    },
    {
     "cell_type": "markdown",
     "metadata": {},
     "source": [
      "* Gain Experience using IPython Notebook (or alternative) to document research so that it is useful to future you. \n",
      "* Use iPlant Collaborative Discovery Environment   \n",
      "* Install and software locally (BLAST)  \n",
      "* Explore structured data tables with commandline\n",
      "* Use SQLShare to join and query table."
     ]
    },
    {
     "cell_type": "heading",
     "level": 2,
     "metadata": {},
     "source": [
      "What is Piura?"
     ]
    },
    {
     "cell_type": "code",
     "collapsed": false,
     "input": [
      "from IPython.display import HTML\n",
      "HTML('<iframe src=http://en.m.wikipedia.org/wiki/Pyura_chilensis width=80% height=350></iframe>')"
     ],
     "language": "python",
     "metadata": {},
     "outputs": [
      {
       "html": [
        "<iframe src=http://en.m.wikipedia.org/wiki/Pyura_chilensis width=80% height=350></iframe>"
       ],
       "metadata": {},
       "output_type": "pyout",
       "prompt_number": 1,
       "text": [
        "<IPython.core.display.HTML at 0x1068c4190>"
       ]
      }
     ],
     "prompt_number": 1
    },
    {
     "cell_type": "heading",
     "level": 1,
     "metadata": {},
     "source": [
      "Map"
     ]
    },
    {
     "cell_type": "markdown",
     "metadata": {},
     "source": [
      "<img src=\"http://eagle.fish.washington.edu/cnidarian/skitch/Coquimbo_-_Google_Maps_1A58733E.png\" alt=\"Coquimbo_-_Google_Maps_1A58733E.png\"/>"
     ]
    },
    {
     "cell_type": "markdown",
     "metadata": {},
     "source": [
      "![pic](../img/Coquimbo_-_Google_Maps_1A58733E.png)"
     ]
    },
    {
     "cell_type": "heading",
     "level": 1,
     "metadata": {},
     "source": [
      "Scenario"
     ]
    },
    {
     "cell_type": "markdown",
     "metadata": {},
     "source": [
      "Sequencing data from 454 Platform was just sequenced by a core facility. You need to take it, make sure it is of decent quality, your data, and determine the functional category of genes expressed."
     ]
    },
    {
     "cell_type": "heading",
     "level": 2,
     "metadata": {},
     "source": [
      "Location of Raw Data"
     ]
    },
    {
     "cell_type": "markdown",
     "metadata": {},
     "source": [
      "<http://owl.fish.washington.edu/eimd/index.php?dir=austral%2Fdata%2F>"
     ]
    },
    {
     "cell_type": "heading",
     "level": 1,
     "metadata": {},
     "source": [
      "Step 1 Upload to iPlant Discovery Environment"
     ]
    },
    {
     "cell_type": "heading",
     "level": 1,
     "metadata": {},
     "source": [
      "Step 2 Convert SFF to Fastq"
     ]
    },
    {
     "cell_type": "markdown",
     "metadata": {},
     "source": [
      "<img src=\"../img/_33__Discovery_Environment_1A33CEE2.png\" alt=\"_33__Discovery_Environment_1A33CEE2.png\"/>"
     ]
    },
    {
     "cell_type": "markdown",
     "metadata": {},
     "source": [
      "<img src=\"../img/_40__Discovery_Environment_1A33CF96.png\" alt=\"_40__Discovery_Environment_1A33CF96.png\"/>"
     ]
    },
    {
     "cell_type": "heading",
     "level": 1,
     "metadata": {},
     "source": [
      "Step 3 Check Sequence Quality - FASTQC"
     ]
    },
    {
     "cell_type": "markdown",
     "metadata": {},
     "source": [
      "<img src=\"../img/_40__Discovery_Environment_1A33D0B2.png\" alt=\"_40__Discovery_Environment_1A33D0B2.png\"/>"
     ]
    },
    {
     "cell_type": "markdown",
     "metadata": {},
     "source": [
      "<img src=\"../img/_43__Discovery_Environment_1A33D446.png\" alt=\"_43__Discovery_Environment_1A33D446.png\"/>"
     ]
    },
    {
     "cell_type": "heading",
     "level": 1,
     "metadata": {},
     "source": [
      "Step 3b Download zip file and view graphs"
     ]
    },
    {
     "cell_type": "code",
     "collapsed": false,
     "input": [
      "from IPython.display import HTML\n",
      "HTML('<iframe src=../fastqc/PiuraChilensis_Coquimbo_fastqc/fastqc_report.html width=100% height=650></iframe>')"
     ],
     "language": "python",
     "metadata": {},
     "outputs": [
      {
       "html": [
        "<iframe src=../fastqc/PiuraChilensis_Coquimbo_fastqc/fastqc_report.html width=100% height=650></iframe>"
       ],
       "metadata": {},
       "output_type": "pyout",
       "prompt_number": 2,
       "text": [
        "<IPython.core.display.HTML at 0x1068d26d0>"
       ]
      }
     ],
     "prompt_number": 2
    },
    {
     "cell_type": "code",
     "collapsed": false,
     "input": [
      "from IPython.display import HTML\n",
      "HTML('<iframe src=../fastqc/PiuraChilensis_Valdivia_fastqc/fastqc_report.html width=100% height=650></iframe>')"
     ],
     "language": "python",
     "metadata": {},
     "outputs": [
      {
       "html": [
        "<iframe src=../fastqc/PiuraChilensis_Valdivia_fastqc/fastqc_report.html width=100% height=650></iframe>"
       ],
       "metadata": {},
       "output_type": "pyout",
       "prompt_number": 3,
       "text": [
        "<IPython.core.display.HTML at 0x1068d2710>"
       ]
      }
     ],
     "prompt_number": 3
    },
    {
     "cell_type": "heading",
     "level": 1,
     "metadata": {},
     "source": [
      "Step 4 Trim Sequences"
     ]
    },
    {
     "cell_type": "markdown",
     "metadata": {},
     "source": [
      "<img src=\"../img/_103__Discovery_Environment_1A34B118.png\" alt=\"_103__Discovery_Environment_1A34B118.png\"/>"
     ]
    },
    {
     "cell_type": "heading",
     "level": 1,
     "metadata": {},
     "source": [
      "Step 5 Recheck Sequence Quality"
     ]
    },
    {
     "cell_type": "markdown",
     "metadata": {},
     "source": [
      "<img src=\"../img/_109__Discovery_Environment_1A34B470.png\" alt=\"_109__Discovery_Environment_1A34B470.png\"/>"
     ]
    },
    {
     "cell_type": "code",
     "collapsed": false,
     "input": [
      "from IPython.display import HTML\n",
      "HTML('<iframe src=../fastqc/trimmer/PiuraChilensis_Coquimbo_trimmer_out_fastqc/fastqc_report.html width=100% height=650></iframe>')"
     ],
     "language": "python",
     "metadata": {},
     "outputs": [
      {
       "html": [
        "<iframe src=../fastqc/trimmer/PiuraChilensis_Coquimbo_trimmer_out_fastqc/fastqc_report.html width=100% height=650></iframe>"
       ],
       "metadata": {},
       "output_type": "pyout",
       "prompt_number": 12,
       "text": [
        "<IPython.core.display.HTML at 0x1043c5410>"
       ]
      }
     ],
     "prompt_number": 12
    },
    {
     "cell_type": "code",
     "collapsed": false,
     "input": [
      "from IPython.display import HTML\n",
      "HTML('<iframe src=../fastqc/trimmer/PiuraChilensis_Valdivia_trimmer_out_fastqc/fastqc_report.html width=100% height=650></iframe>')"
     ],
     "language": "python",
     "metadata": {},
     "outputs": [
      {
       "html": [
        "<iframe src=../fastqc/trimmer/PiuraChilensis_Valdivia_trimmer_out_fastqc/fastqc_report.html width=100% height=650></iframe>"
       ],
       "metadata": {},
       "output_type": "pyout",
       "prompt_number": 13,
       "text": [
        "<IPython.core.display.HTML at 0x10439f810>"
       ]
      }
     ],
     "prompt_number": 13
    },
    {
     "cell_type": "heading",
     "level": 1,
     "metadata": {},
     "source": [
      "Step 6 Assemble Reads into Transcriptome (Trinity)"
     ]
    },
    {
     "cell_type": "markdown",
     "metadata": {},
     "source": [
      "Lets do each sample separately "
     ]
    },
    {
     "cell_type": "markdown",
     "metadata": {},
     "source": [
      "<img src=\"http://eagle.fish.washington.edu/cnidarian/skitch/_56__Discovery_Environment_1A5EFB8C.png\" alt=\"_56__Discovery_Environment_1A5EFB8C.png\"/>"
     ]
    },
    {
     "cell_type": "markdown",
     "metadata": {},
     "source": [
      "Results     \n",
      "* http://de.iplantcollaborative.org/dl/d/352B2BF2-C1C3-4866-9B8B-DA3928D0D0A1/PiuraC_Val_Trinity.fasta\n",
      "* http://de.iplantcollaborative.org/dl/d/38C4F315-476D-48E7-B8F4-D41FE7BF613A/PiuraC_Coq_Trinity.fasta"
     ]
    },
    {
     "cell_type": "heading",
     "level": 1,
     "metadata": {},
     "source": [
      "Step 6b Assemble Reads into Transcriptome (CLC)"
     ]
    },
    {
     "cell_type": "markdown",
     "metadata": {},
     "source": [
      "<img src=\"http://eagle.fish.washington.edu/cnidarian/skitch/CLC_Genomics_Workbench_7_5_1_1A44A53F.png\" alt=\"CLC_Genomics_Workbench_7_5_1_1A44A53F.png\"/>"
     ]
    },
    {
     "cell_type": "markdown",
     "metadata": {},
     "source": [
      "<img src=\"http://eagle.fish.washington.edu/cnidarian/skitch/CLC_Genomics_Workbench_7_5_1_1A44A571.png\" alt=\"CLC_Genomics_Workbench_7_5_1_1A44A571.png\"/>"
     ]
    },
    {
     "cell_type": "markdown",
     "metadata": {},
     "source": [
      "Results\n",
      "* http://eagle.fish.washington.edu/cnidarian/Piura_v1_contigs.fa\n"
     ]
    },
    {
     "cell_type": "heading",
     "level": 1,
     "metadata": {},
     "source": [
      "Step 7 Annotate Contigs (Blast)"
     ]
    },
    {
     "cell_type": "code",
     "collapsed": false,
     "input": [],
     "language": "python",
     "metadata": {},
     "outputs": []
    },
    {
     "cell_type": "heading",
     "level": 1,
     "metadata": {},
     "source": [
      "Step 8 Explore files in commandline"
     ]
    },
    {
     "cell_type": "code",
     "collapsed": false,
     "input": [],
     "language": "python",
     "metadata": {},
     "outputs": []
    },
    {
     "cell_type": "heading",
     "level": 1,
     "metadata": {},
     "source": [
      "Step 9 Joining Blast results with other information (SQLShare)"
     ]
    },
    {
     "cell_type": "code",
     "collapsed": false,
     "input": [],
     "language": "python",
     "metadata": {},
     "outputs": []
    },
    {
     "cell_type": "heading",
     "level": 1,
     "metadata": {},
     "source": [
      "Bonus Step! Automate - fasta2slim"
     ]
    },
    {
     "cell_type": "code",
     "collapsed": false,
     "input": [],
     "language": "python",
     "metadata": {},
     "outputs": []
    }
   ],
   "metadata": {}
  }
 ]
}