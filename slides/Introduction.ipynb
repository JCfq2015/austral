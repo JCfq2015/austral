{
 "metadata": {
  "celltoolbar": "Slideshow",
  "name": "",
  "signature": "sha256:0efd74734c16b5c62cef80e73b298673a82204a92e47d2099912a0cf096e0ead"
 },
 "nbformat": 3,
 "nbformat_minor": 0,
 "worksheets": [
  {
   "cells": [
    {
     "cell_type": "markdown",
     "metadata": {
      "slideshow": {
       "slide_type": "slide"
      }
     },
     "source": [
      "#Physiological response of marine organisms to environmental change from a genomic perspective\n",
      "\n",
      "_Instructor_:      \n",
      "Steven Roberts     \n",
      "robertslab.info     \n",
      "sr320@uw.edu     \n",
      "@sr320"
     ]
    },
    {
     "cell_type": "heading",
     "level": 1,
     "metadata": {
      "slideshow": {
       "slide_type": "slide"
      }
     },
     "source": [
      "\n",
      "Introduction\n"
     ]
    },
    {
     "cell_type": "code",
     "collapsed": false,
     "input": [
      "cd /Users/sr320/git-repos/austral/slides\n"
     ],
     "language": "python",
     "metadata": {
      "slideshow": {
       "slide_type": "skip"
      }
     },
     "outputs": [
      {
       "output_type": "stream",
       "stream": "stdout",
       "text": [
        "/Users/sr320/git-repos/austral/slides\n"
       ]
      }
     ],
     "prompt_number": 1
    },
    {
     "cell_type": "code",
     "collapsed": false,
     "input": [
      "!ipython nbconvert /Users/sr320/git-repos/austral/slides/Introduction.ipynb --to slides --post serve\n"
     ],
     "language": "python",
     "metadata": {
      "slideshow": {
       "slide_type": "skip"
      }
     },
     "outputs": [
      {
       "output_type": "stream",
       "stream": "stdout",
       "text": [
        "[NbConvertApp] Using existing profile dir: u'/Users/sr320/.ipython/profile_default'\r\n"
       ]
      },
      {
       "output_type": "stream",
       "stream": "stdout",
       "text": [
        "[NbConvertApp] Converting notebook /Users/sr320/git-repos/austral/slides/Introduction.ipynb to slides\r\n",
        "[NbConvertApp] Support files will be in Introduction_files/\r\n",
        "[NbConvertApp] Loaded template slides_reveal.tpl\r\n"
       ]
      },
      {
       "output_type": "stream",
       "stream": "stdout",
       "text": [
        "/Users/sr320/anaconda/lib/python2.7/site-packages/IPython/nbconvert/filters/markdown.py:78: UserWarning: Node.js 0.9.12 or later wasn't found.\r\n",
        "Nbconvert will try to use Pandoc instead.\r\n",
        "  \"Nbconvert will try to use Pandoc instead.\")\r\n",
        "[NbConvertApp] ERROR | Error while converting '/Users/sr320/git-repos/austral/slides/Introduction.ipynb'\r\n",
        "Traceback (most recent call last):\r\n",
        "  File \"/Users/sr320/anaconda/lib/python2.7/site-packages/IPython/nbconvert/nbconvertapp.py\", line 301, in convert_notebooks\r\n",
        "    output, resources = exporter.from_filename(notebook_filename, resources=resources)\r\n",
        "  File \"/Users/sr320/anaconda/lib/python2.7/site-packages/IPython/nbconvert/exporters/exporter.py\", line 151, in from_filename\r\n",
        "    return self.from_notebook_node(nbformat.read(f, 'json'), resources=resources, **kw)\r\n",
        "  File \"/Users/sr320/anaconda/lib/python2.7/site-packages/IPython/nbconvert/exporters/templateexporter.py\", line 215, in from_notebook_node\r\n",
        "    output = self.template.render(nb=nb_copy, resources=resources)\r\n",
        "  File \"/Users/sr320/anaconda/lib/python2.7/site-packages/jinja2/environment.py\", line 969, in render\r\n",
        "    return self.environment.handle_exception(exc_info, True)\r\n",
        "  File \"/Users/sr320/anaconda/lib/python2.7/site-packages/jinja2/environment.py\", line 742, in handle_exception\r\n",
        "    reraise(exc_type, exc_value, tb)\r\n",
        "  File \"/Users/sr320/anaconda/lib/python2.7/site-packages/IPython/nbconvert/exporters/../templates/html/slides_reveal.tpl\", line 2, in top-level template code\r\n",
        "    {% from 'mathjax.tpl' import mathjax %}\r\n",
        "  File \"/Users/sr320/anaconda/lib/python2.7/site-packages/IPython/nbconvert/exporters/../templates/html/basic.tpl\", line 1, in top-level template code\r\n",
        "    {%- extends 'display_priority.tpl' -%}\r\n",
        "  File \"/Users/sr320/anaconda/lib/python2.7/site-packages/IPython/nbconvert/exporters/../templates/skeleton/display_priority.tpl\", line 1, in top-level template code\r\n",
        "    {%- extends 'null.tpl' -%}\r\n",
        "  File \"/Users/sr320/anaconda/lib/python2.7/site-packages/IPython/nbconvert/exporters/../templates/skeleton/null.tpl\", line 26, in top-level template code\r\n",
        "    {%- block body -%}\r\n",
        "  File \"/Users/sr320/anaconda/lib/python2.7/site-packages/IPython/nbconvert/exporters/../templates/html/slides_reveal.tpl\", line 155, in block \"body\"\r\n",
        "    {{ super() }}\r\n",
        "  File \"/Users/sr320/anaconda/lib/python2.7/site-packages/IPython/nbconvert/exporters/../templates/skeleton/null.tpl\", line 29, in block \"body\"\r\n",
        "    {%- block any_cell scoped -%}\r\n",
        "  File \"/Users/sr320/anaconda/lib/python2.7/site-packages/IPython/nbconvert/exporters/../templates/html/slides_reveal.tpl\", line 8, in block \"any_cell\"\r\n",
        "    {{ super() }}\r\n",
        "  File \"/Users/sr320/anaconda/lib/python2.7/site-packages/IPython/nbconvert/exporters/../templates/skeleton/null.tpl\", line 73, in block \"any_cell\"\r\n",
        "    {%- block markdowncell scoped-%}\r\n",
        "  File \"/Users/sr320/anaconda/lib/python2.7/site-packages/IPython/nbconvert/exporters/../templates/html/basic.tpl\", line 68, in block \"markdowncell\"\r\n",
        "    {{ cell.source  | markdown2html | strip_files_prefix }}\r\n",
        "  File \"/Users/sr320/anaconda/lib/python2.7/site-packages/IPython/nbconvert/filters/markdown.py\", line 83, in markdown2html\r\n",
        "    return markdown2html_pandoc(source)\r\n",
        "  File \"/Users/sr320/anaconda/lib/python2.7/site-packages/IPython/nbconvert/filters/markdown.py\", line 87, i"
       ]
      },
      {
       "output_type": "stream",
       "stream": "stdout",
       "text": [
        "n markdown2html_pandoc\r\n",
        "    return pandoc(source, 'markdown', 'html', extra_args=['--mathjax'])\r\n",
        "  File \"/Users/sr320/anaconda/lib/python2.7/site-packages/IPython/nbconvert/utils/pandoc.py\", line 63, in pandoc\r\n",
        "    check_pandoc_version()\r\n",
        "  File \"/Users/sr320/anaconda/lib/python2.7/site-packages/IPython/nbconvert/utils/pandoc.py\", line 104, in check_pandoc_version\r\n",
        "    v = get_pandoc_version()\r\n",
        "  File \"/Users/sr320/anaconda/lib/python2.7/site-packages/IPython/nbconvert/utils/pandoc.py\", line 88, in get_pandoc_version\r\n",
        "    raise PandocMissing()\r\n",
        "PandocMissing: Pandoc wasn't found.\r\n",
        "Please check that pandoc is installed:\r\n",
        "http://johnmacfarlane.net/pandoc/installing.html\r\n"
       ]
      }
     ],
     "prompt_number": 2
    },
    {
     "cell_type": "heading",
     "level": 1,
     "metadata": {
      "slideshow": {
       "slide_type": "slide"
      }
     },
     "source": [
      "Marine environments are continually changing in response to both natural processes and human activities, both having direct physiological impacts on marine organisms. \n",
      "       \n"
     ]
    },
    {
     "cell_type": "heading",
     "level": 1,
     "metadata": {
      "slideshow": {
       "slide_type": "fragment"
      }
     },
     "source": [
      "This course will explore the surprising similarities and unique differences in the physiological response of diverse organisms. \n"
     ]
    },
    {
     "cell_type": "heading",
     "level": 1,
     "metadata": {
      "slideshow": {
       "slide_type": "slide"
      }
     },
     "source": [
      "The main focus will be on functional responses to system stressors; however, the course will also explore how new discoveries in epigenetics is providing insight into phenotypic plasticity and evolutionary implications. "
     ]
    },
    {
     "cell_type": "heading",
     "level": 1,
     "metadata": {
      "slideshow": {
       "slide_type": "fragment"
      }
     },
     "source": [
      "A core component of this course will be hands on tutorials on examining high-throughput sequencing data. \n"
     ]
    },
    {
     "cell_type": "heading",
     "level": 1,
     "metadata": {
      "slideshow": {
       "slide_type": "slide"
      }
     },
     "source": [
      "Specifically, transcriptome (RNA-seq) data from experiments where marine organisms are exposed to environmental change will be analyzed. "
     ]
    },
    {
     "cell_type": "heading",
     "level": 1,
     "metadata": {
      "slideshow": {
       "slide_type": "fragment"
      }
     },
     "source": [
      "Bioinformatic instruction will include modules on gene annotation, differential gene expression, and variant detection.\n"
     ]
    },
    {
     "cell_type": "heading",
     "level": 1,
     "metadata": {
      "slideshow": {
       "slide_type": "fragment"
      }
     },
     "source": [
      "There will be an emphasis on open science practices including the use of electronic lab notebooks. "
     ]
    },
    {
     "cell_type": "markdown",
     "metadata": {
      "slideshow": {
       "slide_type": "slide"
      }
     },
     "source": [
      "#Basics\n",
      "* ##Fundamental Physiology\n"
     ]
    },
    {
     "cell_type": "markdown",
     "metadata": {
      "slideshow": {
       "slide_type": "fragment"
      }
     },
     "source": [
      "* ##Core Computational Skills\n"
     ]
    },
    {
     "cell_type": "markdown",
     "metadata": {
      "slideshow": {
       "slide_type": "fragment"
      }
     },
     "source": [
      "* ##Bioinformatic Modules"
     ]
    },
    {
     "cell_type": "heading",
     "level": 1,
     "metadata": {
      "slideshow": {
       "slide_type": "slide"
      }
     },
     "source": [
      "Logistics"
     ]
    },
    {
     "cell_type": "code",
     "collapsed": false,
     "input": [],
     "language": "python",
     "metadata": {
      "slideshow": {
       "slide_type": "slide"
      }
     },
     "outputs": []
    },
    {
     "cell_type": "code",
     "collapsed": false,
     "input": [],
     "language": "python",
     "metadata": {
      "slideshow": {
       "slide_type": "slide"
      }
     },
     "outputs": []
    },
    {
     "cell_type": "heading",
     "level": 1,
     "metadata": {
      "slideshow": {
       "slide_type": "slide"
      }
     },
     "source": [
      "Fundamental Physiology"
     ]
    },
    {
     "cell_type": "heading",
     "level": 2,
     "metadata": {
      "slideshow": {
       "slide_type": "slide"
      }
     },
     "source": [
      "Physiology"
     ]
    },
    {
     "cell_type": "heading",
     "level": 3,
     "metadata": {
      "slideshow": {
       "slide_type": "fragment"
      }
     },
     "source": [
      "study the function of organisms    \n"
     ]
    },
    {
     "cell_type": "heading",
     "level": 3,
     "metadata": {
      "slideshow": {
       "slide_type": "fragment"
      }
     },
     "source": [
      "how life works"
     ]
    },
    {
     "cell_type": "heading",
     "level": 1,
     "metadata": {
      "slideshow": {
       "slide_type": "slide"
      }
     },
     "source": [
      "Explanations of physiological processes"
     ]
    },
    {
     "cell_type": "markdown",
     "metadata": {
      "slideshow": {
       "slide_type": "fragment"
      }
     },
     "source": [
      "![cycle](./img/cycle.jpg)"
     ]
    },
    {
     "cell_type": "heading",
     "level": 1,
     "metadata": {
      "slideshow": {
       "slide_type": "slide"
      }
     },
     "source": [
      "Integrative"
     ]
    },
    {
     "cell_type": "markdown",
     "metadata": {
      "slideshow": {
       "slide_type": "slide"
      }
     },
     "source": [
      "![from cell to environment](./img/integrative.jpg)"
     ]
    },
    {
     "cell_type": "heading",
     "level": 1,
     "metadata": {
      "slideshow": {
       "slide_type": "slide"
      }
     },
     "source": [
      "Comparative"
     ]
    },
    {
     "cell_type": "markdown",
     "metadata": {
      "slideshow": {
       "slide_type": "slide"
      }
     },
     "source": [
      "![Comparative Physiology](./img/comparative.jpg)"
     ]
    },
    {
     "cell_type": "code",
     "collapsed": false,
     "input": [
      "pylab inline"
     ],
     "language": "python",
     "metadata": {},
     "outputs": [
      {
       "output_type": "stream",
       "stream": "stdout",
       "text": [
        "Populating the interactive namespace from numpy and matplotlib\n"
       ]
      }
     ],
     "prompt_number": 16
    },
    {
     "cell_type": "code",
     "collapsed": false,
     "input": [
      "from IPython.display import Image\n",
      "\n",
      "Image(url='http://eagle.fish.washington.edu/cnidarian/skitch/comparative_jpg__872\u00d7123__1A49D393.png')"
     ],
     "language": "python",
     "metadata": {
      "slideshow": {
       "slide_type": "skip"
      }
     },
     "outputs": [
      {
       "metadata": {},
       "output_type": "pyout",
       "prompt_number": 19,
       "text": [
        "<IPython.core.display.Image at 0x105de58d0>"
       ]
      }
     ],
     "prompt_number": 19
    },
    {
     "cell_type": "code",
     "collapsed": false,
     "input": [
      "Image(url='http://eagle.fish.washington.edu/cnidarian/skitch/comparative_jpg__872\u00d7123__1A49D393.png')"
     ],
     "language": "python",
     "metadata": {
      "slideshow": {
       "slide_type": "slide"
      }
     },
     "outputs": [
      {
       "metadata": {},
       "output_type": "pyout",
       "prompt_number": 18,
       "text": [
        "<IPython.core.display.Image at 0x105de5790>"
       ]
      }
     ],
     "prompt_number": 18
    },
    {
     "cell_type": "code",
     "collapsed": false,
     "input": [],
     "language": "python",
     "metadata": {},
     "outputs": []
    }
   ],
   "metadata": {}
  }
 ]
}