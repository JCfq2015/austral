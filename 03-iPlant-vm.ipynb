{
 "metadata": {
  "name": "",
  "signature": "sha256:06904cf54304bd4eead3aaa4bfdb4a6927acb4a1474c0bd3286a221167b01e5d"
 },
 "nbformat": 3,
 "nbformat_minor": 0,
 "worksheets": [
  {
   "cells": [
    {
     "cell_type": "markdown",
     "metadata": {},
     "source": [
      "<img src=\"http://eagle.fish.washington.edu/cnidarian/skitch/vm64-127_1__sr320_-_VNC_Viewer_1A438287.png\" alt=\"vm64-127_1__sr320_-_VNC_Viewer_1A438287.png\" width=50%/>"
     ]
    },
    {
     "cell_type": "markdown",
     "metadata": {},
     "source": [
      "<img src=\"http://eagle.fish.washington.edu/cnidarian/skitch/vm64-127_1__sr320_-_VNC_Viewer_1A439789.png\" alt=\"vm64-127_1__sr320_-_VNC_Viewer_1A439789.png\"/>"
     ]
    },
    {
     "cell_type": "code",
     "collapsed": false,
     "input": [],
     "language": "python",
     "metadata": {},
     "outputs": []
    }
   ],
   "metadata": {}
  }
 ]
}